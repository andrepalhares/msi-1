{
 "cells": [
  {
   "cell_type": "markdown",
   "metadata": {
    "id": "ed7uSNbQ2cH5"
   },
   "source": [
    "# Obtendo dados do site MaisTocadas anualmente"
   ]
  },
  {
   "cell_type": "markdown",
   "metadata": {
    "id": "h0_-2xNc2cH9"
   },
   "source": [
    "Neste notebook, vamos buscar as listas de músicas mais tocadas nas rádios anualmente de 1980 a 2016."
   ]
  },
  {
   "cell_type": "code",
   "execution_count": 2,
   "metadata": {
    "collapsed": true
   },
   "outputs": [
    {
     "name": "stdout",
     "output_type": "stream",
     "text": [
      "Collecting bs4\n",
      "  Downloading bs4-0.0.1.tar.gz (1.1 kB)\n",
      "Collecting beautifulsoup4\n",
      "  Downloading beautifulsoup4-4.9.3-py3-none-any.whl (115 kB)\n",
      "\u001b[K     |████████████████████████████████| 115 kB 9.4 kB/s eta 0:00:01    |██████████████▏                 | 51 kB 5.9 kB/s eta 0:00:11\n",
      "\u001b[?25hCollecting soupsieve>1.2; python_version >= \"3.0\"\n",
      "  Downloading soupsieve-2.2.1-py3-none-any.whl (33 kB)\n",
      "Building wheels for collected packages: bs4\n",
      "  Building wheel for bs4 (setup.py) ... \u001b[?25ldone\n",
      "\u001b[?25h  Created wheel for bs4: filename=bs4-0.0.1-py3-none-any.whl size=1272 sha256=46993285f348fe57e7ee4f63917e26e2131fd708bb2b2e827ead86f182fb11a5\n",
      "  Stored in directory: /home/andrepalhares/.cache/pip/wheels/75/78/21/68b124549c9bdc94f822c02fb9aa3578a669843f9767776bca\n",
      "Successfully built bs4\n",
      "Installing collected packages: soupsieve, beautifulsoup4, bs4\n",
      "Successfully installed beautifulsoup4-4.9.3 bs4-0.0.1 soupsieve-2.2.1\n"
     ]
    }
   ],
   "source": [
    "!pip3 install bs4"
   ]
  },
  {
   "cell_type": "code",
   "execution_count": 3,
   "metadata": {
    "id": "SciCVljh2cH-"
   },
   "outputs": [],
   "source": [
    "import requests\n",
    "import bs4\n",
    "from bs4 import BeautifulSoup\n",
    "import pandas as pd\n",
    "from datetime import timedelta, date"
   ]
  },
  {
   "cell_type": "code",
   "execution_count": 4,
   "metadata": {
    "id": "kaiqox1j2cH-"
   },
   "outputs": [],
   "source": [
    "url = 'https://maistocadas.mus.br/'\n",
    "headers = {\n",
    "    'User-Agent': 'Mozilla/5.0 (Windows NT 10.0; Win64; x64) AppleWebKit/537.36 (KHTML, like Gecko) Chrome/42.0.2311.135 Safari/537.36 Edge/12.246'\n",
    "}"
   ]
  },
  {
   "cell_type": "code",
   "execution_count": 5,
   "metadata": {
    "id": "xPJ8XhHz2cH_"
   },
   "outputs": [],
   "source": [
    "musicas_populares = []\n",
    "\n",
    "for ano in range(1980, 2017):\n",
    "    r = requests.get(url + str(ano), {'headers': headers})\n",
    "    soup = bs4.BeautifulSoup(r.content, 'html.parser')\n",
    "\n",
    "    posicao = 1\n",
    "    for li in soup.find('ol'):\n",
    "        faixa = li.find('span', {'class': 'musicas'}).get_text(strip=True)\n",
    "        artista = li.find('span', {'class': 'artista'}).get_text(strip=True)\n",
    "        \n",
    "        musicas_populares.append({\n",
    "            'posicao': posicao,\n",
    "            'musica': faixa,\n",
    "            'artista': artista,\n",
    "            'ano': ano\n",
    "        })\n",
    "        posicao += 1\n"
   ]
  },
  {
   "cell_type": "code",
   "execution_count": 6,
   "metadata": {
    "colab": {
     "base_uri": "https://localhost:8080/",
     "height": 204
    },
    "id": "cY1Kt6V_2cIA",
    "outputId": "08b49aa9-5c08-4214-b390-120f46b7cfa1"
   },
   "outputs": [
    {
     "data": {
      "text/html": [
       "<div>\n",
       "<style scoped>\n",
       "    .dataframe tbody tr th:only-of-type {\n",
       "        vertical-align: middle;\n",
       "    }\n",
       "\n",
       "    .dataframe tbody tr th {\n",
       "        vertical-align: top;\n",
       "    }\n",
       "\n",
       "    .dataframe thead th {\n",
       "        text-align: right;\n",
       "    }\n",
       "</style>\n",
       "<table border=\"1\" class=\"dataframe\">\n",
       "  <thead>\n",
       "    <tr style=\"text-align: right;\">\n",
       "      <th></th>\n",
       "      <th>posicao</th>\n",
       "      <th>musica</th>\n",
       "      <th>artista</th>\n",
       "      <th>ano</th>\n",
       "    </tr>\n",
       "  </thead>\n",
       "  <tbody>\n",
       "    <tr>\n",
       "      <th>0</th>\n",
       "      <td>1</td>\n",
       "      <td>Balancê</td>\n",
       "      <td>Gal Costa</td>\n",
       "      <td>1980</td>\n",
       "    </tr>\n",
       "    <tr>\n",
       "      <th>1</th>\n",
       "      <td>2</td>\n",
       "      <td>Another Brick In The Wall</td>\n",
       "      <td>Pink Floyd</td>\n",
       "      <td>1980</td>\n",
       "    </tr>\n",
       "    <tr>\n",
       "      <th>2</th>\n",
       "      <td>3</td>\n",
       "      <td>Crazy Little Thing Called Love</td>\n",
       "      <td>Queen</td>\n",
       "      <td>1980</td>\n",
       "    </tr>\n",
       "    <tr>\n",
       "      <th>3</th>\n",
       "      <td>4</td>\n",
       "      <td>Momentos</td>\n",
       "      <td>Joanna</td>\n",
       "      <td>1980</td>\n",
       "    </tr>\n",
       "    <tr>\n",
       "      <th>4</th>\n",
       "      <td>5</td>\n",
       "      <td>Menino do Rio</td>\n",
       "      <td>Baby Consuelo</td>\n",
       "      <td>1980</td>\n",
       "    </tr>\n",
       "  </tbody>\n",
       "</table>\n",
       "</div>"
      ],
      "text/plain": [
       "   posicao                          musica        artista   ano\n",
       "0        1                         Balancê      Gal Costa  1980\n",
       "1        2       Another Brick In The Wall     Pink Floyd  1980\n",
       "2        3  Crazy Little Thing Called Love          Queen  1980\n",
       "3        4                        Momentos         Joanna  1980\n",
       "4        5                   Menino do Rio  Baby Consuelo  1980"
      ]
     },
     "execution_count": 6,
     "metadata": {},
     "output_type": "execute_result"
    }
   ],
   "source": [
    "df = pd.DataFrame(musicas_populares, columns=['posicao', 'musica', 'artista', 'ano'])\n",
    "df.head(5)"
   ]
  },
  {
   "cell_type": "code",
   "execution_count": null,
   "metadata": {
    "id": "outj6iwp2cIA"
   },
   "outputs": [],
   "source": [
    "df.to_excel('musicas-1980-2016.xlsx', engine='openpyxl')"
   ]
  },
  {
   "cell_type": "markdown",
   "metadata": {
    "id": "YWNtDub52cIA"
   },
   "source": [
    "# Buscando listas do site Spotify Charts"
   ]
  },
  {
   "cell_type": "markdown",
   "metadata": {
    "id": "r8P3Ip312cIB"
   },
   "source": [
    "Agora, vamos buscar as músicas mais ouvidas no serviço de streaming Spotify entre os anos de 2017 e 2021. Através do site SpotifyCharts é possível obter semanalmente a lista de músicas mais ouvidas e no final fazer um somatório ano a ano.\n"
   ]
  },
  {
   "cell_type": "code",
   "execution_count": 77,
   "metadata": {
    "id": "py4Yw6yH2cIB"
   },
   "outputs": [],
   "source": [
    "nome_arquivo = 'content/regional-br-weekly-{0}--{1}.csv' #regional-br-weekly-2017-01-13--2017-01-20\n",
    "url = 'https://spotifycharts.com/regional/br/weekly/{0}--{1}/download'\n",
    "data_final = date(2021,1,1)\n",
    "data = date(2016,12,30)\n",
    "\n",
    "dataframe_2017 = pd.DataFrame(columns=['Position',\t'Track Name',\t'Artist',\t'Streams', 'URL', 'Week'])\n",
    "dataframe_2018 = pd.DataFrame(columns=['Position',\t'Track Name',\t'Artist',\t'Streams', 'URL', 'Week'])\n",
    "dataframe_2019 = pd.DataFrame(columns=['Position',\t'Track Name',\t'Artist',\t'Streams', 'URL', 'Week'])\n",
    "dataframe_2020 = pd.DataFrame(columns=['Position',\t'Track Name',\t'Artist',\t'Streams', 'URL', 'Week'])\n",
    "\n",
    "while (data < data_final):\n",
    "  inicio = data \n",
    "  fim = data + timedelta(7)\n",
    "\n",
    "  df = pd.read_csv(nome_arquivo.format(inicio.strftime(\"%Y-%m-%d\"), fim.strftime(\"%Y-%m-%d\")), skiprows=[0])\n",
    "  df['Week'] = inicio\n",
    "  if (inicio.strftime(\"%Y\") == '2017'):\n",
    "    dataframe_2017 = pd.concat([dataframe_2017, df])\n",
    "  elif (inicio.strftime(\"%Y\") == '2018'):\n",
    "    dataframe_2018 = pd.concat([dataframe_2018, df])\n",
    "  elif (inicio.strftime(\"%Y\") == '2019'):\n",
    "    dataframe_2019 = pd.concat([dataframe_2019, df])\n",
    "  elif (inicio.strftime(\"%Y\") == '2020'):\n",
    "    dataframe_2020 = pd.concat([dataframe_2020, df])\n",
    "\n",
    "  data = fim"
   ]
  },
  {
   "cell_type": "code",
   "execution_count": 78,
   "metadata": {
    "id": "JcIiY5QhcjT3"
   },
   "outputs": [],
   "source": [
    "dataframe_2017 = dataframe_2017.groupby(by=['Track Name', 'Artist'], sort='Streams')['Streams'].sum()\n",
    "dataframe_2017 = pd.DataFrame(dataframe_2017).sort_values(by='Streams', ascending=False)\n",
    "\n",
    "dataframe_2018 = dataframe_2018.groupby(by=['Track Name', 'Artist'], sort='Streams')['Streams'].sum()\n",
    "dataframe_2018 = pd.DataFrame(dataframe_2018).sort_values(by='Streams', ascending=False)\n",
    "\n",
    "dataframe_2019 = dataframe_2019.groupby(by=['Track Name', 'Artist'], sort='Streams')['Streams'].sum()\n",
    "dataframe_2019 = pd.DataFrame(dataframe_2019).sort_values(by='Streams', ascending=False)\n",
    "\n",
    "dataframe_2020 = dataframe_2020.groupby(by=['Track Name', 'Artist'], sort='Streams')['Streams'].sum()\n",
    "dataframe_2020 = pd.DataFrame(dataframe_2020).sort_values(by='Streams', ascending=False)"
   ]
  },
  {
   "cell_type": "code",
   "execution_count": 79,
   "metadata": {
    "id": "m3JYRzRrrfsn"
   },
   "outputs": [],
   "source": [
    "dataframe_2017.to_excel('spotify-2017.xlsx', engine='openpyxl')\n",
    "dataframe_2018.to_excel('spotify-2018.xlsx', engine='openpyxl')\n",
    "dataframe_2019.to_excel('spotify-2019.xlsx', engine='openpyxl')\n",
    "dataframe_2020.to_excel('spotify-2020.xlsx', engine='openpyxl')"
   ]
  },
  {
   "cell_type": "markdown",
   "metadata": {
    "id": "Sdwah69ZTZiB"
   },
   "source": []
  }
 ],
 "metadata": {
  "colab": {
   "collapsed_sections": [],
   "name": "1 - Buscando musicas mais ouvidas nas radios.ipynb",
   "provenance": []
  },
  "kernelspec": {
   "display_name": "Python 3 (ipykernel)",
   "language": "python",
   "name": "python3"
  },
  "language_info": {
   "codemirror_mode": {
    "name": "ipython",
    "version": 3
   },
   "file_extension": ".py",
   "mimetype": "text/x-python",
   "name": "python",
   "nbconvert_exporter": "python",
   "pygments_lexer": "ipython3",
   "version": "3.8.10"
  }
 },
 "nbformat": 4,
 "nbformat_minor": 1
}
