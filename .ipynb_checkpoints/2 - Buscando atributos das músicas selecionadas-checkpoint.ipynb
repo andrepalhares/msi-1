{
 "cells": [
  {
   "cell_type": "code",
   "execution_count": null,
   "metadata": {},
   "outputs": [],
   "source": [
    "import requests\n",
    "import base64\n",
    "import datetime\n",
    "from urllib.parse import urlencode\n",
    "from pandas import DataFrame\n",
    "import pandas as pd\n",
    "import requests"
   ]
  },
  {
   "cell_type": "code",
   "execution_count": null,
   "metadata": {},
   "outputs": [],
   "source": [
    "# Preencher com client_id gerado através do link developer.spotify.com/dashboard/\n",
    "client_id = '3b521738dce44ad9a00639075fd2d8f3' \n",
    "client_secret = '65d7a7bcf9ac4b4396adc837ba6cb924'"
   ]
  },
  {
   "cell_type": "code",
   "execution_count": null,
   "metadata": {},
   "outputs": [],
   "source": [
    "class SpotifyAPI(object):\n",
    "    access_token = None\n",
    "    access_token_expires = datetime.datetime.now()\n",
    "    access_token_did_expire = True\n",
    "    client_id = None\n",
    "    client_secret = None\n",
    "    token_url = \"https://accounts.spotify.com/api/token\"\n",
    "    \n",
    "    def __init__(self, client_id, client_secret, *args, **kwargs):\n",
    "        super(SpotifyAPI, self).__init__(*args, **kwargs)\n",
    "        self.client_id = client_id\n",
    "        self.client_secret = client_secret\n",
    "\n",
    "    def get_client_credentials(self):\n",
    "        client_id = self.client_id\n",
    "        client_secret = self.client_secret\n",
    "        if client_secret == None or client_id == None:\n",
    "            raise Exception(\"client_id e client_secret invalidos\")\n",
    "        client_creds = \"{}:{}\".format(client_id, client_secret)\n",
    "        client_creds_b64 = base64.b64encode(client_creds.encode())\n",
    "        return client_creds_b64.decode()\n",
    "    \n",
    "    def get_token_headers(self):\n",
    "        client_creds_b64 = self.get_client_credentials()\n",
    "        return {\n",
    "            \"Authorization\": \"Basic {}\".format(client_creds_b64)\n",
    "        }\n",
    "    \n",
    "    def get_token_data(self):\n",
    "        return {\n",
    "            \"grant_type\": \"client_credentials\"\n",
    "        } \n",
    "    \n",
    "    def perform_auth(self):\n",
    "        token_url = self.token_url\n",
    "        token_data = self.get_token_data()\n",
    "        token_headers = self.get_token_headers()\n",
    "        r = requests.post(token_url, data=token_data, headers=token_headers)\n",
    "        if r.status_code not in range(200, 299):\n",
    "            raise Exception(\"Não foi possível autenticar.\")\n",
    "            # return False\n",
    "        data = r.json()\n",
    "        now = datetime.datetime.now()\n",
    "        access_token = data['access_token']\n",
    "        expires_in = data['expires_in'] # seconds\n",
    "        expires = now + datetime.timedelta(seconds=expires_in)\n",
    "        self.access_token = access_token\n",
    "        self.access_token_expires = expires\n",
    "        self.access_token_did_expire = expires < now\n",
    "        return True\n",
    "    \n",
    "    def get_access_token(self):\n",
    "        token = self.access_token\n",
    "        expires = self.access_token_expires\n",
    "        now = datetime.datetime.now()\n",
    "        if expires < now:\n",
    "            self.perform_auth()\n",
    "            return self.get_access_token()\n",
    "        elif token == None:\n",
    "            self.perform_auth()\n",
    "            return self.get_access_token() \n",
    "        return token"
   ]
  },
  {
   "cell_type": "code",
   "execution_count": null,
   "metadata": {},
   "outputs": [],
   "source": [
    "spotify = SpotifyAPI(client_id, client_secret)\n",
    "spotify.perform_auth()"
   ]
  },
  {
   "cell_type": "markdown",
   "metadata": {},
   "source": [
    "# Buscando atributos das músicas mais tocadas nas rádios (1980 - 2016)"
   ]
  },
  {
   "cell_type": "code",
   "execution_count": null,
   "metadata": {},
   "outputs": [],
   "source": [
    "headers = {\n",
    "    \"Authorization\": \"Bearer {}\".format(spotify.access_token)\n",
    "}\n",
    "data = {\n",
    "    \"q\": \"\",\n",
    "    \"type\": \"track\",\n",
    "    \"limit\": 1,\n",
    "    \"market\": \"BR\"\n",
    "}\n",
    "url = \"https://api.spotify.com/v1/search\"\n",
    "features_url = \"https://api.spotify.com/v1/audio-features?ids=\""
   ]
  },
  {
   "cell_type": "code",
   "execution_count": null,
   "metadata": {},
   "outputs": [],
   "source": [
    "def obterAtributos(df, coluna_musica, coluna_artista) :\n",
    "    id = ''\n",
    "    for index, row in df.iterrows():\n",
    "        data['q'] = \"{} {}\".format(row[coluna_musica], row[coluna_artista])\n",
    "\n",
    "        lookup_url = \"{}?{}\".format(url, urlencode(data))\n",
    "        r = requests.get(lookup_url, headers=headers)\n",
    "\n",
    "        if (r.json() and r.json()['tracks'] and r.json()['tracks']['items'] and len(r.json()['tracks']['items']) > 0):\n",
    "            track = r.json()['tracks']['items'][0]\n",
    "            id = track['id']\n",
    "\n",
    "            df.at[index,'id'] = id\n",
    "            df.at[index,'release_date'] = track['album']['release_date']\n",
    "\n",
    "            features_request = requests.get(features_url + id, headers=headers)\n",
    "            features = features_request.json()['audio_features'][0]\n",
    "\n",
    "            if(features is not None):\n",
    "                df.at[index,'danceability'] = features['danceability']\n",
    "                df.at[index,'energy'] = features['energy']\n",
    "                df.at[index,'key'] = features['key']\n",
    "                df.at[index,'loudness'] = features['loudness']\n",
    "                df.at[index,'mode'] = features['mode']\n",
    "                df.at[index,'speechiness'] = features['speechiness']\n",
    "                df.at[index,'acousticness'] = features['acousticness']\n",
    "                df.at[index,'instrumentalness'] = features['instrumentalness']\n",
    "                df.at[index,'liveness'] = features['liveness']\n",
    "                df.at[index,'valence'] = features['valence']\n",
    "                df.at[index,'tempo'] = features['tempo']\n",
    "                df.at[index,'duration_ms'] = features['duration_ms']\n",
    "                df.at[index,'time_signature'] = features['time_signature']\n",
    "        else:\n",
    "            print(data['q'])\n",
    "    return df"
   ]
  },
  {
   "cell_type": "code",
   "execution_count": null,
   "metadata": {},
   "outputs": [],
   "source": [
    "df = pd.read_excel('musicas.xlsx')\n",
    "\n",
    "df['Posicao'] = pd.to_numeric(df['Posicao'], downcast='integer')\n",
    "df['Ano'] = pd.to_numeric(df['Ano'], downcast='integer')\n",
    "\n",
    "obterAtributos(df, 'Musica', 'Artista').to_excel('musicas_features.xlsx')"
   ]
  }
 ],
 "metadata": {
  "kernelspec": {
   "display_name": "Python 3 (ipykernel)",
   "language": "python",
   "name": "python3"
  },
  "language_info": {
   "codemirror_mode": {
    "name": "ipython",
    "version": 3
   },
   "file_extension": ".py",
   "mimetype": "text/x-python",
   "name": "python",
   "nbconvert_exporter": "python",
   "pygments_lexer": "ipython3",
   "version": "3.8.10"
  }
 },
 "nbformat": 4,
 "nbformat_minor": 2
}
