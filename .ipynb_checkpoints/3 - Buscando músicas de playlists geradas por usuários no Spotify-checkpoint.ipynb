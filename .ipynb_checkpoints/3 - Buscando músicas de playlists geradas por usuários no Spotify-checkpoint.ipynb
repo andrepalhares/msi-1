{
 "cells": [
  {
   "cell_type": "markdown",
   "id": "074be4f7",
   "metadata": {},
   "source": [
    "# Buscando músicas de playlists geradas por usuários no Spotify"
   ]
  },
  {
   "cell_type": "code",
   "execution_count": null,
   "id": "3a557570",
   "metadata": {},
   "outputs": [],
   "source": [
    "import requests\n",
    "import base64\n",
    "import datetime\n",
    "from urllib.parse import urlencode\n",
    "from pandas import DataFrame\n",
    "import pandas as pd\n",
    "import requests"
   ]
  },
  {
   "cell_type": "code",
   "execution_count": null,
   "id": "8f841acd",
   "metadata": {},
   "outputs": [],
   "source": [
    "client_id = '3b521738dce44ad9a00639075fd2d8f3'\n",
    "client_secret = '65d7a7bcf9ac4b4396adc837ba6cb924'"
   ]
  },
  {
   "cell_type": "code",
   "execution_count": null,
   "id": "dea6ebcf",
   "metadata": {},
   "outputs": [],
   "source": [
    "class SpotifyAPI(object):\n",
    "    access_token = None\n",
    "    access_token_expires = datetime.datetime.now()\n",
    "    access_token_did_expire = True\n",
    "    client_id = None\n",
    "    client_secret = None\n",
    "    token_url = \"https://accounts.spotify.com/api/token\"\n",
    "    \n",
    "    def __init__(self, client_id, client_secret, *args, **kwargs):\n",
    "        super(SpotifyAPI, self).__init__(*args, **kwargs)\n",
    "        self.client_id = client_id\n",
    "        self.client_secret = client_secret\n",
    "\n",
    "    def get_client_credentials(self):\n",
    "        client_id = self.client_id\n",
    "        client_secret = self.client_secret\n",
    "        if client_secret == None or client_id == None:\n",
    "            raise Exception(\"client_id e client_secret invalidos\")\n",
    "        client_creds = \"{}:{}\".format(client_id, client_secret)\n",
    "        client_creds_b64 = base64.b64encode(client_creds.encode())\n",
    "        return client_creds_b64.decode()\n",
    "    \n",
    "    def get_token_headers(self):\n",
    "        client_creds_b64 = self.get_client_credentials()\n",
    "        return {\n",
    "            \"Authorization\": \"Basic {}\".format(client_creds_b64)\n",
    "        }\n",
    "    \n",
    "    def get_token_data(self):\n",
    "        return {\n",
    "            \"grant_type\": \"client_credentials\"\n",
    "        } \n",
    "    \n",
    "    def perform_auth(self):\n",
    "        token_url = self.token_url\n",
    "        token_data = self.get_token_data()\n",
    "        token_headers = self.get_token_headers()\n",
    "        r = requests.post(token_url, data=token_data, headers=token_headers)\n",
    "        if r.status_code not in range(200, 299):\n",
    "            raise Exception(\"Não foi possível autenticar.\")\n",
    "            # return False\n",
    "        data = r.json()\n",
    "        now = datetime.datetime.now()\n",
    "        access_token = data['access_token']\n",
    "        expires_in = data['expires_in'] # seconds\n",
    "        expires = now + datetime.timedelta(seconds=expires_in)\n",
    "        self.access_token = access_token\n",
    "        self.access_token_expires = expires\n",
    "        self.access_token_did_expire = expires < now\n",
    "        return True\n",
    "    \n",
    "    def get_access_token(self):\n",
    "        token = self.access_token\n",
    "        expires = self.access_token_expires\n",
    "        now = datetime.datetime.now()\n",
    "        if expires < now:\n",
    "            self.perform_auth()\n",
    "            return self.get_access_token()\n",
    "        elif token == None:\n",
    "            self.perform_auth()\n",
    "            return self.get_access_token() \n",
    "        return token"
   ]
  },
  {
   "cell_type": "code",
   "execution_count": null,
   "id": "28b128ff",
   "metadata": {},
   "outputs": [],
   "source": [
    "spotify = SpotifyAPI(client_id, client_secret)\n",
    "spotify.perform_auth()"
   ]
  },
  {
   "cell_type": "code",
   "execution_count": null,
   "id": "5f33370a",
   "metadata": {},
   "outputs": [],
   "source": [
    "playlists = [\n",
    "    '7owriGQK12LB9haE8PbJXe',\n",
    "    '2cLKOKhb5kKCfe7go7V2fx',\n",
    "    '01y5aJINFD1dgE1xYZmRUV'\n",
    "]\n",
    "headers = {\n",
    "    \"Authorization\": \"Bearer {}\".format(spotify.access_token)\n",
    "}\n",
    "data = {\n",
    "    \"market\": \"BR\",\n",
    "    \"limit\": 100,\n",
    "    \"fields\": \"items(track(id, name, popularity, artists(name), album(name, release_date)))\"\n",
    "}\n",
    "\n",
    "tracklist_final = []\n",
    "items = []\n",
    "artists = []\n",
    "for playlist in playlists:\n",
    "    track_list = []\n",
    "    endpoint = \"https://api.spotify.com/v1/playlists/{}/tracks\".format(playlist)\n",
    "    \n",
    "    lookup_url = \"{}?{}\".format(endpoint, urlencode(data))\n",
    "\n",
    "    r = requests.get(lookup_url, headers=headers)\n",
    "\n",
    "    for item in r.json()['items']:\n",
    "        track_list.append(item['track']['id'].encode('utf-8')) \n",
    "        tracklist_final.append(track_list)\n",
    "        artists.append({\n",
    "            \"id\": item['track']['id'].encode('utf-8').encode('utf-8'),\n",
    "            \"artist\": next((e for e in item['track']['artists']), None)['name'].encode('utf-8'),\n",
    "            \"album\": item['track']['album']['name'].encode('utf-8'),\n",
    "            \"track\": item['track']['name'].encode('utf-8'),\n",
    "            \"popularity\": item['track']['popularity'],\n",
    "            \"release_date\": item['track']['album']['release_date'].encode('utf-8')\n",
    "        })\n",
    "        \n",
    "    data_music = {\n",
    "        \"ids\": \",\".join(track_list)\n",
    "    }\n",
    "\n",
    "    lookup_url = \"{}?{}\".format(\"https://api.spotify.com/v1/audio-features\", urlencode(data_music))\n",
    "\n",
    "    features = requests.get(lookup_url, headers=headers)\n",
    "    \n",
    "    for item in features.json()['audio_features']:\n",
    "        items.append(item)"
   ]
  },
  {
   "cell_type": "code",
   "execution_count": null,
   "id": "1c4e4167",
   "metadata": {},
   "outputs": [],
   "source": [
    "df = DataFrame(items,columns=['id', 'energy', 'liveness', 'tempo', \n",
    "                               'speechiness', 'acousticness', 'instrumentalness', 'time_signature',\n",
    "                              'danceability', 'key', 'duration_ms', 'loudness', 'valence'])\n",
    "df_artists = DataFrame(artists, columns=['id', 'track', 'artist', 'album', 'release_date', 'popularity'])"
   ]
  },
  {
   "cell_type": "code",
   "execution_count": null,
   "id": "ab59a392",
   "metadata": {},
   "outputs": [],
   "source": [
    "final = pd.merge(df_artists,df,on='id',how='left')\n",
    "final.to_csv('playlist2021.csv')"
   ]
  },
  {
   "cell_type": "code",
   "execution_count": null,
   "id": "f6905d48",
   "metadata": {},
   "outputs": [],
   "source": [
    "df.head(20)"
   ]
  }
 ],
 "metadata": {
  "kernelspec": {
   "display_name": "Python 3 (ipykernel)",
   "language": "python",
   "name": "python3"
  },
  "language_info": {
   "codemirror_mode": {
    "name": "ipython",
    "version": 3
   },
   "file_extension": ".py",
   "mimetype": "text/x-python",
   "name": "python",
   "nbconvert_exporter": "python",
   "pygments_lexer": "ipython3",
   "version": "3.8.10"
  }
 },
 "nbformat": 4,
 "nbformat_minor": 5
}
