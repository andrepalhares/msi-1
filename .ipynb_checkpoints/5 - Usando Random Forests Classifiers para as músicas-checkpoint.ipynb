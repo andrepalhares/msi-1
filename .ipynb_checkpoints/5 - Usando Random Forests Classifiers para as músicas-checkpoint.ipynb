{
 "cells": [
  {
   "cell_type": "code",
   "execution_count": 1,
   "id": "a05d8d37",
   "metadata": {},
   "outputs": [],
   "source": [
    "import pandas as pd\n",
    "import numpy as np\n",
    "import matplotlib.pyplot as plt\n",
    "from sklearn.model_selection import train_test_split\n",
    "from sklearn.preprocessing import StandardScaler\n",
    "from sklearn.ensemble import RandomForestClassifier\n",
    "from sklearn import metrics\n",
    "import seaborn as sns\n",
    "from sklearn.metrics import plot_confusion_matrix"
   ]
  },
  {
   "cell_type": "code",
   "execution_count": 2,
   "id": "c73b0e1f",
   "metadata": {},
   "outputs": [
    {
     "data": {
      "text/html": [
       "<div>\n",
       "<style scoped>\n",
       "    .dataframe tbody tr th:only-of-type {\n",
       "        vertical-align: middle;\n",
       "    }\n",
       "\n",
       "    .dataframe tbody tr th {\n",
       "        vertical-align: top;\n",
       "    }\n",
       "\n",
       "    .dataframe thead th {\n",
       "        text-align: right;\n",
       "    }\n",
       "</style>\n",
       "<table border=\"1\" class=\"dataframe\">\n",
       "  <thead>\n",
       "    <tr style=\"text-align: right;\">\n",
       "      <th></th>\n",
       "      <th>Posicao</th>\n",
       "      <th>Musica</th>\n",
       "      <th>Artista</th>\n",
       "      <th>Ano</th>\n",
       "      <th>id</th>\n",
       "      <th>release_date</th>\n",
       "      <th>danceability</th>\n",
       "      <th>energy</th>\n",
       "      <th>key</th>\n",
       "      <th>loudness</th>\n",
       "      <th>mode</th>\n",
       "      <th>speechiness</th>\n",
       "      <th>acousticness</th>\n",
       "      <th>instrumentalness</th>\n",
       "      <th>liveness</th>\n",
       "      <th>valence</th>\n",
       "      <th>tempo</th>\n",
       "      <th>duration_ms</th>\n",
       "      <th>time_signature</th>\n",
       "    </tr>\n",
       "  </thead>\n",
       "  <tbody>\n",
       "    <tr>\n",
       "      <th>0</th>\n",
       "      <td>1.0</td>\n",
       "      <td>Balancê</td>\n",
       "      <td>Gal Costa</td>\n",
       "      <td>1980</td>\n",
       "      <td>2m1G38M0gJuE4aVPh0tmIP</td>\n",
       "      <td>1979-01-08</td>\n",
       "      <td>0.638</td>\n",
       "      <td>0.736</td>\n",
       "      <td>9.0</td>\n",
       "      <td>-10.536</td>\n",
       "      <td>1.0</td>\n",
       "      <td>0.0811</td>\n",
       "      <td>0.0849</td>\n",
       "      <td>0.000000</td>\n",
       "      <td>0.333</td>\n",
       "      <td>0.881</td>\n",
       "      <td>144.823</td>\n",
       "      <td>188667.0</td>\n",
       "      <td>4.0</td>\n",
       "    </tr>\n",
       "    <tr>\n",
       "      <th>1</th>\n",
       "      <td>4.0</td>\n",
       "      <td>Momentos</td>\n",
       "      <td>Joanna</td>\n",
       "      <td>1980</td>\n",
       "      <td>5ncQCIFnjpHWRXbuKFG8RP</td>\n",
       "      <td>2002-11-08</td>\n",
       "      <td>0.501</td>\n",
       "      <td>0.296</td>\n",
       "      <td>7.0</td>\n",
       "      <td>-12.018</td>\n",
       "      <td>0.0</td>\n",
       "      <td>0.0292</td>\n",
       "      <td>0.8020</td>\n",
       "      <td>0.006370</td>\n",
       "      <td>0.117</td>\n",
       "      <td>0.305</td>\n",
       "      <td>132.462</td>\n",
       "      <td>235147.0</td>\n",
       "      <td>4.0</td>\n",
       "    </tr>\n",
       "    <tr>\n",
       "      <th>2</th>\n",
       "      <td>5.0</td>\n",
       "      <td>Menino do Rio</td>\n",
       "      <td>Baby Consuelo</td>\n",
       "      <td>1980</td>\n",
       "      <td>6tisytwaOaBA4CAZPPdlFP</td>\n",
       "      <td>1978-09-14</td>\n",
       "      <td>0.380</td>\n",
       "      <td>0.548</td>\n",
       "      <td>0.0</td>\n",
       "      <td>-9.260</td>\n",
       "      <td>1.0</td>\n",
       "      <td>0.0333</td>\n",
       "      <td>0.7300</td>\n",
       "      <td>0.000142</td>\n",
       "      <td>0.310</td>\n",
       "      <td>0.395</td>\n",
       "      <td>152.498</td>\n",
       "      <td>263733.0</td>\n",
       "      <td>4.0</td>\n",
       "    </tr>\n",
       "    <tr>\n",
       "      <th>3</th>\n",
       "      <td>6.0</td>\n",
       "      <td>Toada (Na Direção do Dia)</td>\n",
       "      <td>Boca Livre</td>\n",
       "      <td>1980</td>\n",
       "      <td>2LO6c0rfmBm49Qs9KtQR1W</td>\n",
       "      <td>2007-01-01</td>\n",
       "      <td>0.402</td>\n",
       "      <td>0.506</td>\n",
       "      <td>6.0</td>\n",
       "      <td>-13.094</td>\n",
       "      <td>0.0</td>\n",
       "      <td>0.0409</td>\n",
       "      <td>0.9280</td>\n",
       "      <td>0.000946</td>\n",
       "      <td>0.728</td>\n",
       "      <td>0.446</td>\n",
       "      <td>97.082</td>\n",
       "      <td>233707.0</td>\n",
       "      <td>4.0</td>\n",
       "    </tr>\n",
       "    <tr>\n",
       "      <th>4</th>\n",
       "      <td>9.0</td>\n",
       "      <td>Meu Bem Querer</td>\n",
       "      <td>Djavan</td>\n",
       "      <td>1980</td>\n",
       "      <td>5ogHB4oYt1C7kaWJYm5MDG</td>\n",
       "      <td>1999-03-25</td>\n",
       "      <td>0.519</td>\n",
       "      <td>0.457</td>\n",
       "      <td>9.0</td>\n",
       "      <td>-8.450</td>\n",
       "      <td>1.0</td>\n",
       "      <td>0.0326</td>\n",
       "      <td>0.7630</td>\n",
       "      <td>0.000666</td>\n",
       "      <td>0.796</td>\n",
       "      <td>0.264</td>\n",
       "      <td>81.561</td>\n",
       "      <td>254800.0</td>\n",
       "      <td>4.0</td>\n",
       "    </tr>\n",
       "  </tbody>\n",
       "</table>\n",
       "</div>"
      ],
      "text/plain": [
       "   Posicao                       Musica        Artista   Ano  \\\n",
       "0      1.0                      Balancê      Gal Costa  1980   \n",
       "1      4.0                     Momentos         Joanna  1980   \n",
       "2      5.0                Menino do Rio  Baby Consuelo  1980   \n",
       "3      6.0  Toada (Na Direção do Dia)     Boca Livre  1980   \n",
       "4      9.0               Meu Bem Querer         Djavan  1980   \n",
       "\n",
       "                       id release_date  danceability  energy  key  loudness  \\\n",
       "0  2m1G38M0gJuE4aVPh0tmIP   1979-01-08         0.638   0.736  9.0   -10.536   \n",
       "1  5ncQCIFnjpHWRXbuKFG8RP   2002-11-08         0.501   0.296  7.0   -12.018   \n",
       "2  6tisytwaOaBA4CAZPPdlFP   1978-09-14         0.380   0.548  0.0    -9.260   \n",
       "3  2LO6c0rfmBm49Qs9KtQR1W   2007-01-01         0.402   0.506  6.0   -13.094   \n",
       "4  5ogHB4oYt1C7kaWJYm5MDG   1999-03-25         0.519   0.457  9.0    -8.450   \n",
       "\n",
       "   mode  speechiness  acousticness  instrumentalness  liveness  valence  \\\n",
       "0   1.0       0.0811        0.0849          0.000000     0.333    0.881   \n",
       "1   0.0       0.0292        0.8020          0.006370     0.117    0.305   \n",
       "2   1.0       0.0333        0.7300          0.000142     0.310    0.395   \n",
       "3   0.0       0.0409        0.9280          0.000946     0.728    0.446   \n",
       "4   1.0       0.0326        0.7630          0.000666     0.796    0.264   \n",
       "\n",
       "     tempo  duration_ms  time_signature  \n",
       "0  144.823     188667.0             4.0  \n",
       "1  132.462     235147.0             4.0  \n",
       "2  152.498     263733.0             4.0  \n",
       "3   97.082     233707.0             4.0  \n",
       "4   81.561     254800.0             4.0  "
      ]
     },
     "execution_count": 2,
     "metadata": {},
     "output_type": "execute_result"
    }
   ],
   "source": [
    "df = pd.read_excel('musicas_features.xlsx', usecols = \"B:T\")\n",
    "df = df[(df['id'].notnull()) & (df['Ano'] != 2020)]\n",
    "df = df.drop_duplicates(subset=['id'], keep='last')\n",
    "df['Ano'] = df['Ano'].astype(int)\n",
    "df.head()"
   ]
  },
  {
   "cell_type": "markdown",
   "id": "0fdc361a",
   "metadata": {},
   "source": [
    "## Determinando a década de cada música"
   ]
  },
  {
   "cell_type": "code",
   "execution_count": 3,
   "id": "3480bf46",
   "metadata": {},
   "outputs": [],
   "source": [
    "def obter_decada(linha):\n",
    "    ano = str(linha['Ano'])\n",
    "    if \"198\" in ano:\n",
    "        return \"1980\"\n",
    "    if \"199\" in ano:\n",
    "        return \"1999\"\n",
    "    if \"200\" in ano:\n",
    "        return \"2000\"\n",
    "    if \"201\" in ano:\n",
    "        return \"2010\"\n",
    "    return \"-\"\n",
    "\n",
    "df['Decada'] = df.apply (lambda x: obter_decada(x), axis=1)"
   ]
  },
  {
   "cell_type": "code",
   "execution_count": 4,
   "id": "e93fe58c",
   "metadata": {},
   "outputs": [
    {
     "data": {
      "text/plain": [
       "Posicao             0\n",
       "Musica              0\n",
       "Artista             0\n",
       "Ano                 0\n",
       "id                  0\n",
       "release_date        0\n",
       "danceability        0\n",
       "energy              0\n",
       "key                 0\n",
       "loudness            0\n",
       "mode                0\n",
       "speechiness         0\n",
       "acousticness        0\n",
       "instrumentalness    0\n",
       "liveness            0\n",
       "valence             0\n",
       "tempo               0\n",
       "duration_ms         0\n",
       "time_signature      0\n",
       "Decada              0\n",
       "dtype: int64"
      ]
     },
     "execution_count": 4,
     "metadata": {},
     "output_type": "execute_result"
    }
   ],
   "source": [
    "# Certificando que nenhum dos valores é nulo\n",
    "df.isnull().sum()"
   ]
  },
  {
   "cell_type": "markdown",
   "id": "d9884157",
   "metadata": {},
   "source": [
    "##  Dividindo o dataset em base de teste e treino"
   ]
  },
  {
   "cell_type": "code",
   "execution_count": 5,
   "id": "afa3ceb8",
   "metadata": {},
   "outputs": [],
   "source": [
    "atributos = ['danceability', 'energy', 'key', 'loudness', 'mode', \n",
    "        'speechiness', 'acousticness', 'instrumentalness', 'liveness', \n",
    "        'valence', 'tempo', 'duration_ms', 'time_signature']\n",
    "\n",
    "X = df[atributos]\n",
    "y = pd.factorize(df['Decada'])[0]\n",
    "\n",
    "X_train, X_test, y_train, y_test = train_test_split(X, y, test_size=0.3)"
   ]
  },
  {
   "cell_type": "code",
   "execution_count": 6,
   "id": "13f5a6ce",
   "metadata": {},
   "outputs": [],
   "source": [
    "sc_X = StandardScaler()\n",
    "X_train = sc_X.fit_transform(X_train)\n",
    "X_test = sc_X.fit_transform(X_test)"
   ]
  },
  {
   "cell_type": "markdown",
   "id": "c2d53676",
   "metadata": {},
   "source": [
    "## Encontrando os melhores parâmetros "
   ]
  },
  {
   "cell_type": "code",
   "execution_count": 7,
   "id": "13ddd82c",
   "metadata": {},
   "outputs": [
    {
     "name": "stdout",
     "output_type": "stream",
     "text": [
      "{'n_estimators': [1000, 1285, 1571, 1857, 2142, 2428, 2714, 3000, 3285, 3571, 3857, 4142, 4428, 4714, 5000], 'max_depth': [10, 30, 50, 70, 90, 110, 130, 150, 170, 190, 210]}\n"
     ]
    }
   ],
   "source": [
    "from sklearn.model_selection import RandomizedSearchCV\n",
    "\n",
    "random_grid = {'n_estimators': [int(x) for x in np.linspace(start = 1000, stop = 5000, num = 15)], # quantidade de árvores\n",
    "               'max_depth': [int(x) for x in np.linspace(10, 210, num = 11)], # número máximo de níveis\n",
    "              } "
   ]
  },
  {
   "cell_type": "markdown",
   "id": "b23e5fba",
   "metadata": {},
   "source": [
    "## Otimizando os parâmetros"
   ]
  },
  {
   "cell_type": "code",
   "execution_count": 8,
   "id": "335c7dec",
   "metadata": {},
   "outputs": [
    {
     "name": "stdout",
     "output_type": "stream",
     "text": [
      "Fitting 3 folds for each of 100 candidates, totalling 300 fits\n"
     ]
    },
    {
     "data": {
      "text/plain": [
       "RandomizedSearchCV(cv=3, estimator=RandomForestClassifier(), n_iter=100,\n",
       "                   n_jobs=-1,\n",
       "                   param_distributions={'max_depth': [10, 30, 50, 70, 90, 110,\n",
       "                                                      130, 150, 170, 190, 210],\n",
       "                                        'n_estimators': [1000, 1285, 1571, 1857,\n",
       "                                                         2142, 2428, 2714, 3000,\n",
       "                                                         3285, 3571, 3857, 4142,\n",
       "                                                         4428, 4714, 5000]},\n",
       "                   random_state=42, verbose=2)"
      ]
     },
     "execution_count": 8,
     "metadata": {},
     "output_type": "execute_result"
    }
   ],
   "source": [
    "rf = RandomForestClassifier()\n",
    "\n",
    "rf_random = RandomizedSearchCV(estimator = rf, \n",
    "                               param_distributions=random_grid, \n",
    "                               n_iter = 100, \n",
    "                               cv=3, \n",
    "                               verbose=2, \n",
    "                               random_state=42, \n",
    "                               n_jobs=-1\n",
    "                              )\n",
    "\n",
    "rf_random.fit(X_train, y_train)"
   ]
  },
  {
   "cell_type": "markdown",
   "id": "938342b8",
   "metadata": {},
   "source": [
    "## Classificando os dados"
   ]
  },
  {
   "cell_type": "code",
   "execution_count": 9,
   "id": "f18279a0",
   "metadata": {},
   "outputs": [
    {
     "data": {
      "text/plain": [
       "RandomForestClassifier(max_depth=10, n_estimators=1571)"
      ]
     },
     "execution_count": 9,
     "metadata": {},
     "output_type": "execute_result"
    }
   ],
   "source": [
    "rfc = RandomForestClassifier(n_estimators=rf_random.best_params_['n_estimators'], max_depth=rf_random.best_params_['max_depth'])\n",
    "\n",
    "rfc.fit(X_train, y_train)"
   ]
  },
  {
   "cell_type": "code",
   "execution_count": 10,
   "id": "0d2080f1",
   "metadata": {},
   "outputs": [
    {
     "name": "stdout",
     "output_type": "stream",
     "text": [
      "accuracy_score: 0.5374376039933444\n",
      "f1_score: 0.5230361113981252\n"
     ]
    }
   ],
   "source": [
    "y_pred = rfc.predict(X_test)\n",
    "\n",
    "print(\"accuracy_score:\",metrics.accuracy_score(y_test, y_pred))\n",
    "print(\"f1_score:\",metrics.f1_score(y_test, y_pred, average='weighted'))"
   ]
  },
  {
   "cell_type": "code",
   "execution_count": 11,
   "id": "e4b30c99",
   "metadata": {},
   "outputs": [
    {
     "data": {
      "image/png": "[encoded data removed]",
      "text/plain": [
       "<Figure size 432x288 with 2 Axes>"
      ]
     },
     "metadata": {
      "needs_background": "light"
     },
     "output_type": "display_data"
    }
   ],
   "source": [
    "disp = plot_confusion_matrix(rfc, X_test, y_test,\n",
    "                             display_labels=[1980, 1990, 2000, 2010],\n",
    "                             cmap=plt.cm.Greens,\n",
    "                             normalize='true')\n",
    "\n",
    "plt.show()"
   ]
  },
  {
   "cell_type": "markdown",
   "id": "b924a4ea",
   "metadata": {},
   "source": [
    "## Descobrindo atributos mais importantes "
   ]
  },
  {
   "cell_type": "code",
   "execution_count": 12,
   "id": "89f3d5a6",
   "metadata": {},
   "outputs": [
    {
     "data": {
      "text/plain": [
       "loudness            0.199022\n",
       "duration_ms         0.140218\n",
       "acousticness        0.086117\n",
       "energy              0.085385\n",
       "danceability        0.079297\n",
       "speechiness         0.078898\n",
       "liveness            0.075166\n",
       "valence             0.073502\n",
       "tempo               0.069853\n",
       "instrumentalness    0.060448\n",
       "key                 0.037782\n",
       "mode                0.009878\n",
       "time_signature      0.004434\n",
       "dtype: float64"
      ]
     },
     "execution_count": 12,
     "metadata": {},
     "output_type": "execute_result"
    }
   ],
   "source": [
    "atributos_importancia = pd.Series(rfc.feature_importances_,index=atributos).sort_values(ascending=False)\n",
    "atributos_importancia"
   ]
  },
  {
   "cell_type": "code",
   "execution_count": 13,
   "id": "d9816a13",
   "metadata": {},
   "outputs": [
    {
     "data": {
      "text/plain": [
       "<AxesSubplot:>"
      ]
     },
     "execution_count": 13,
     "metadata": {},
     "output_type": "execute_result"
    },
    {
     "data": {
      "image/png": "[encoded data removed]",
      "text/plain": [
       "<Figure size 432x288 with 1 Axes>"
      ]
     },
     "metadata": {
      "needs_background": "light"
     },
     "output_type": "display_data"
    }
   ],
   "source": [
    "sns.barplot(x=atributos_importancia, y=atributos_importancia.index)"
   ]
  },
  {
   "cell_type": "code",
   "execution_count": 14,
   "id": "980cf462",
   "metadata": {},
   "outputs": [
    {
     "data": {
      "text/plain": [
       "[<matplotlib.lines.Line2D at 0x7f2ead2b65b0>]"
      ]
     },
     "execution_count": 14,
     "metadata": {},
     "output_type": "execute_result"
    },
    {
     "data": {
      "image/png": "[encoded data removed]",
      "text/plain": [
       "<Figure size 2160x864 with 1 Axes>"
      ]
     },
     "metadata": {
      "needs_background": "light"
     },
     "output_type": "display_data"
    }
   ],
   "source": [
    "plt.rcParams[\"figure.figsize\"] = (30,12)\n",
    "loudness = df.groupby(by='Ano').mean()['loudness'].reset_index()\n",
    "\n",
    "plt.plot('Ano', 'loudness', data=loudness, marker='.', color='green', linewidth=2)"
   ]
  }
 ],
 "metadata": {
  "kernelspec": {
   "display_name": "Python 3 (ipykernel)",
   "language": "python",
   "name": "python3"
  },
  "language_info": {
   "codemirror_mode": {
    "name": "ipython",
    "version": 3
   },
   "file_extension": ".py",
   "mimetype": "text/x-python",
   "name": "python",
   "nbconvert_exporter": "python",
   "pygments_lexer": "ipython3",
   "version": "3.8.10"
  }
 },
 "nbformat": 4,
 "nbformat_minor": 5
}
