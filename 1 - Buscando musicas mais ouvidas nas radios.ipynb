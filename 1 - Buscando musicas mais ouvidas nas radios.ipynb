{
 "cells": [
  {
   "cell_type": "markdown",
   "metadata": {
    "id": "ed7uSNbQ2cH5"
   },
   "source": [
    "# Obtendo dados do site MaisTocadas anualmente"
   ]
  },
  {
   "cell_type": "markdown",
   "metadata": {
    "id": "h0_-2xNc2cH9"
   },
   "source": [
    "Neste notebook, vamos buscar as listas de músicas mais tocadas nas rádios anualmente de 1980 a 2016."
   ]
  },
  {
   "cell_type": "code",
   "execution_count": null,
   "metadata": {
    "id": "SciCVljh2cH-"
   },
   "outputs": [],
   "source": [
    "import requests\n",
    "import bs4\n",
    "from bs4 import BeautifulSoup\n",
    "import pandas as pd\n",
    "from datetime import timedelta, date"
   ]
  },
  {
   "cell_type": "code",
   "execution_count": null,
   "metadata": {
    "id": "kaiqox1j2cH-"
   },
   "outputs": [],
   "source": [
    "url = 'https://maistocadas.mus.br/'\n",
    "headers = {\n",
    "    'User-Agent': 'Mozilla/5.0 (Windows NT 10.0; Win64; x64) AppleWebKit/537.36 (KHTML, like Gecko) Chrome/42.0.2311.135 Safari/537.36 Edge/12.246'\n",
    "}"
   ]
  },
  {
   "cell_type": "code",
   "execution_count": null,
   "metadata": {
    "id": "xPJ8XhHz2cH_"
   },
   "outputs": [],
   "source": [
    "musicas_populares = []\n",
    "\n",
    "for ano in range(1980, 2017):\n",
    "    r = requests.get(url + str(ano), {'headers': headers})\n",
    "    soup = bs4.BeautifulSoup(r.content, 'html.parser')\n",
    "\n",
    "    posicao = 1\n",
    "    for li in soup.find('ol'):\n",
    "        faixa = li.find('span', {'class': 'musicas'}).get_text(strip=True)\n",
    "        artista = li.find('span', {'class': 'artista'}).get_text(strip=True)\n",
    "        \n",
    "        musicas_populares.append({\n",
    "            'posicao': posicao,\n",
    "            'musica': faixa,\n",
    "            'artista': artista,\n",
    "            'ano': ano\n",
    "        })\n",
    "        posicao += 1\n"
   ]
  },
  {
   "cell_type": "code",
   "execution_count": null,
   "metadata": {
    "colab": {
     "base_uri": "https://localhost:8080/",
     "height": 204
    },
    "id": "cY1Kt6V_2cIA",
    "outputId": "08b49aa9-5c08-4214-b390-120f46b7cfa1"
   },
   "outputs": [],
   "source": [
    "df = pd.DataFrame(musicas_populares, columns=['posicao', 'musica', 'artista', 'ano'])\n",
    "df.head(5)"
   ]
  },
  {
   "cell_type": "code",
   "execution_count": null,
   "metadata": {
    "id": "outj6iwp2cIA"
   },
   "outputs": [],
   "source": [
    "df.to_excel('musicas-1980-2016.xlsx', engine='openpyxl')"
   ]
  },
  {
   "cell_type": "markdown",
   "metadata": {
    "id": "YWNtDub52cIA"
   },
   "source": [
    "# Buscando listas do site Spotify Charts"
   ]
  },
  {
   "cell_type": "markdown",
   "metadata": {
    "id": "r8P3Ip312cIB"
   },
   "source": [
    "Agora, vamos buscar as músicas mais ouvidas no serviço de streaming Spotify entre os anos de 2017 e 2021. Através do site SpotifyCharts é possível obter semanalmente a lista de músicas mais ouvidas e no final fazer um somatório ano a ano.\n"
   ]
  },
  {
   "cell_type": "code",
   "execution_count": null,
   "metadata": {
    "id": "py4Yw6yH2cIB"
   },
   "outputs": [],
   "source": [
    "nome_arquivo = 'content/regional-br-weekly-{0}--{1}.csv' #regional-br-weekly-2017-01-13--2017-01-20\n",
    "url = 'https://spotifycharts.com/regional/br/weekly/{0}--{1}/download'\n",
    "data_final = date(2021,1,1)\n",
    "data = date(2016,12,30)\n",
    "\n",
    "dataframe_2017 = pd.DataFrame(columns=['Position',\t'Track Name',\t'Artist',\t'Streams', 'URL', 'Week'])\n",
    "dataframe_2018 = pd.DataFrame(columns=['Position',\t'Track Name',\t'Artist',\t'Streams', 'URL', 'Week'])\n",
    "dataframe_2019 = pd.DataFrame(columns=['Position',\t'Track Name',\t'Artist',\t'Streams', 'URL', 'Week'])\n",
    "dataframe_2020 = pd.DataFrame(columns=['Position',\t'Track Name',\t'Artist',\t'Streams', 'URL', 'Week'])\n",
    "\n",
    "while (data < data_final):\n",
    "  inicio = data \n",
    "  fim = data + timedelta(7)\n",
    "\n",
    "  df = pd.read_csv(nome_arquivo.format(inicio.strftime(\"%Y-%m-%d\"), fim.strftime(\"%Y-%m-%d\")), skiprows=[0])\n",
    "  df['Week'] = inicio\n",
    "  if (inicio.strftime(\"%Y\") == '2017'):\n",
    "    dataframe_2017 = pd.concat([dataframe_2017, df])\n",
    "  elif (inicio.strftime(\"%Y\") == '2018'):\n",
    "    dataframe_2018 = pd.concat([dataframe_2018, df])\n",
    "  elif (inicio.strftime(\"%Y\") == '2019'):\n",
    "    dataframe_2019 = pd.concat([dataframe_2019, df])\n",
    "  elif (inicio.strftime(\"%Y\") == '2020'):\n",
    "    dataframe_2020 = pd.concat([dataframe_2020, df])\n",
    "\n",
    "  data = fim"
   ]
  },
  {
   "cell_type": "code",
   "execution_count": null,
   "metadata": {
    "id": "JcIiY5QhcjT3"
   },
   "outputs": [],
   "source": [
    "dataframe_2017 = dataframe_2017.groupby(by=['Track Name', 'Artist'], sort='Streams')['Streams'].sum()\n",
    "dataframe_2017 = pd.DataFrame(dataframe_2017).sort_values(by='Streams', ascending=False)\n",
    "\n",
    "dataframe_2018 = dataframe_2018.groupby(by=['Track Name', 'Artist'], sort='Streams')['Streams'].sum()\n",
    "dataframe_2018 = pd.DataFrame(dataframe_2018).sort_values(by='Streams', ascending=False)\n",
    "\n",
    "dataframe_2019 = dataframe_2019.groupby(by=['Track Name', 'Artist'], sort='Streams')['Streams'].sum()\n",
    "dataframe_2019 = pd.DataFrame(dataframe_2019).sort_values(by='Streams', ascending=False)\n",
    "\n",
    "dataframe_2020 = dataframe_2020.groupby(by=['Track Name', 'Artist'], sort='Streams')['Streams'].sum()\n",
    "dataframe_2020 = pd.DataFrame(dataframe_2020).sort_values(by='Streams', ascending=False)"
   ]
  },
  {
   "cell_type": "code",
   "execution_count": null,
   "metadata": {
    "id": "m3JYRzRrrfsn"
   },
   "outputs": [],
   "source": [
    "dataframe_2017.to_excel('spotify-2017.xlsx', engine='openpyxl')\n",
    "dataframe_2018.to_excel('spotify-2018.xlsx', engine='openpyxl')\n",
    "dataframe_2019.to_excel('spotify-2019.xlsx', engine='openpyxl')\n",
    "dataframe_2020.to_excel('spotify-2020.xlsx', engine='openpyxl')"
   ]
  },
  {
   "cell_type": "markdown",
   "metadata": {
    "id": "Sdwah69ZTZiB"
   },
   "source": []
  }
 ],
 "metadata": {
  "colab": {
   "collapsed_sections": [],
   "name": "1 - Buscando musicas mais ouvidas nas radios.ipynb",
   "provenance": []
  },
  "kernelspec": {
   "display_name": "Python 3 (ipykernel)",
   "language": "python",
   "name": "python3"
  },
  "language_info": {
   "codemirror_mode": {
    "name": "ipython",
    "version": 3
   },
   "file_extension": ".py",
   "mimetype": "text/x-python",
   "name": "python",
   "nbconvert_exporter": "python",
   "pygments_lexer": "ipython3",
   "version": "3.8.10"
  }
 },
 "nbformat": 4,
 "nbformat_minor": 1
}
