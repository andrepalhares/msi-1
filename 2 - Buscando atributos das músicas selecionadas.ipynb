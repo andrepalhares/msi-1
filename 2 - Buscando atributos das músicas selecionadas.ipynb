{
 "cells": [
  {
   "cell_type": "code",
   "execution_count": null,
   "metadata": {},
   "outputs": [],
   "source": [
    "import requests\n",
    "import base64\n",
    "import datetime\n",
    "from urllib.parse import urlencode\n",
    "from pandas import DataFrame\n",
    "import pandas as pd\n",
    "import requests"
   ]
  },
  {
   "cell_type": "code",
   "execution_count": null,
   "metadata": {},
   "outputs": [],
   "source": [
    "# Preencher com client_id gerado através do link developer.spotify.com/dashboard/\n",
    "client_id = '3b521738dce44ad9a00639075fd2d8f3' \n",
    "client_secret = '65d7a7bcf9ac4b4396adc837ba6cb924'"
   ]
  },
  {
   "cell_type": "code",
   "execution_count": null,
   "metadata": {},
   "outputs": [],
   "source": [
    "def gerar_client_credentials_base64(client_id, client_secret):\n",
    "    client_creds = f\"{client_id}:{client_secret}\"\n",
    "    client_creds_base64 = base64.b64encode(client_creds.encode())\n",
    "    \n",
    "    return client_creds_base64.decode()"
   ]
  },
  {
   "cell_type": "code",
   "execution_count": null,
   "metadata": {},
   "outputs": [],
   "source": [
    "class SpotifyAPI(object):\n",
    "    access_token = ''\n",
    "    expires_in = ''\n",
    "    client_id = ''\n",
    "    client_secret = ''\n",
    "    url = \"https://accounts.spotify.com/api/token\"\n",
    "    \n",
    "    def __init__(self, client_id, client_secret):\n",
    "        super().__init__()\n",
    "        self.client_id = client_id\n",
    "        self.client_secret = client_secret\n",
    "        \n",
    "    def autenticacao(self):\n",
    "        r = requests.post(\n",
    "            self.url, \n",
    "            data={\n",
    "                \"grant_type\": \"client_credentials\"\n",
    "            }, \n",
    "            headers={\n",
    "                \"Authorization\": f\"Basic {gerar_client_credentials_base64(self.client_id, self.client_secret)}\"\n",
    "            })\n",
    "\n",
    "        if r.status_code == 200:\n",
    "            resposta = r.json()\n",
    "            \n",
    "            self.access_token = resposta['access_token']\n",
    "            \n",
    "            return True\n",
    "        return False"
   ]
  },
  {
   "cell_type": "code",
   "execution_count": null,
   "metadata": {},
   "outputs": [],
   "source": [
    "spotify = SpotifyAPI(client_id, client_secret)\n",
    "spotify.autenticacao()"
   ]
  },
  {
   "cell_type": "markdown",
   "metadata": {},
   "source": [
    "# Buscando atributos das músicas mais tocadas nas rádios (1980 - 2016)"
   ]
  },
  {
   "cell_type": "code",
   "execution_count": null,
   "metadata": {},
   "outputs": [],
   "source": [
    "headers = {\n",
    "    \"Authorization\": \"Bearer {}\".format(spotify.access_token)\n",
    "}\n",
    "data = {\n",
    "    \"q\": \"\",\n",
    "    \"type\": \"track\",\n",
    "    \"limit\": 1,\n",
    "    \"market\": \"BR\"\n",
    "}\n",
    "url = \"https://api.spotify.com/v1/search\"\n",
    "features_url = \"https://api.spotify.com/v1/audio-features?ids=\""
   ]
  },
  {
   "cell_type": "code",
   "execution_count": null,
   "metadata": {},
   "outputs": [],
   "source": [
    "def obterAtributos(df, coluna_musica, coluna_artista) :\n",
    "    id = ''\n",
    "    for index, row in df.iterrows():\n",
    "        data['q'] = \"{} {}\".format(row[coluna_musica], row[coluna_artista])\n",
    "\n",
    "        lookup_url = \"{}?{}\".format(url, urlencode(data))\n",
    "        r = requests.get(lookup_url, headers=headers)\n",
    "\n",
    "        if (r.json() and r.json()['tracks'] and r.json()['tracks']['items'] and len(r.json()['tracks']['items']) > 0):\n",
    "            track = r.json()['tracks']['items'][0]\n",
    "            id = track['id']\n",
    "\n",
    "            df.at[index,'id'] = id\n",
    "            df.at[index,'release_date'] = track['album']['release_date']\n",
    "\n",
    "            features_request = requests.get(features_url + id, headers=headers)\n",
    "            features = features_request.json()['audio_features'][0]\n",
    "\n",
    "            if(features is not None):\n",
    "                df.at[index,'danceability'] = features['danceability']\n",
    "                df.at[index,'energy'] = features['energy']\n",
    "                df.at[index,'key'] = features['key']\n",
    "                df.at[index,'loudness'] = features['loudness']\n",
    "                df.at[index,'mode'] = features['mode']\n",
    "                df.at[index,'speechiness'] = features['speechiness']\n",
    "                df.at[index,'acousticness'] = features['acousticness']\n",
    "                df.at[index,'instrumentalness'] = features['instrumentalness']\n",
    "                df.at[index,'liveness'] = features['liveness']\n",
    "                df.at[index,'valence'] = features['valence']\n",
    "                df.at[index,'tempo'] = features['tempo']\n",
    "                df.at[index,'duration_ms'] = features['duration_ms']\n",
    "                df.at[index,'time_signature'] = features['time_signature']\n",
    "        else:\n",
    "            print(data['q'])\n",
    "    return df"
   ]
  },
  {
   "cell_type": "code",
   "execution_count": null,
   "metadata": {},
   "outputs": [],
   "source": [
    "df = pd.read_excel('musicas.xlsx')\n",
    "\n",
    "df['Posicao'] = pd.to_numeric(df['Posicao'], downcast='integer')\n",
    "df['Ano'] = pd.to_numeric(df['Ano'], downcast='integer')\n",
    "\n",
    "obterAtributos(df, 'Musica', 'Artista').to_excel('musicas_features.xlsx')"
   ]
  }
 ],
 "metadata": {
  "kernelspec": {
   "display_name": "Python 3 (ipykernel)",
   "language": "python",
   "name": "python3"
  },
  "language_info": {
   "codemirror_mode": {
    "name": "ipython",
    "version": 3
   },
   "file_extension": ".py",
   "mimetype": "text/x-python",
   "name": "python",
   "nbconvert_exporter": "python",
   "pygments_lexer": "ipython3",
   "version": "3.8.10"
  }
 },
 "nbformat": 4,
 "nbformat_minor": 2
}
