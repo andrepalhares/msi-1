{
 "cells": [
  {
   "cell_type": "markdown",
   "id": "783eac71",
   "metadata": {},
   "source": [
    "# Classificando músicas utilizando KNN"
   ]
  },
  {
   "cell_type": "code",
   "execution_count": 1,
   "id": "29ff14b1",
   "metadata": {},
   "outputs": [],
   "source": [
    "import pandas as pd\n",
    "import numpy as np\n",
    "from sklearn.model_selection import train_test_split\n",
    "from sklearn.preprocessing import StandardScaler # pre-processing, uniform data\n",
    "from sklearn.neighbors import KNeighborsClassifier \n",
    "from sklearn.metrics import confusion_matrix\n",
    "from sklearn.metrics import f1_score\n",
    "from sklearn.metrics import accuracy_score"
   ]
  },
  {
   "cell_type": "code",
   "execution_count": 2,
   "id": "d2769220",
   "metadata": {
    "scrolled": true
   },
   "outputs": [
    {
     "data": {
      "text/html": [
       "<div>\n",
       "<style scoped>\n",
       "    .dataframe tbody tr th:only-of-type {\n",
       "        vertical-align: middle;\n",
       "    }\n",
       "\n",
       "    .dataframe tbody tr th {\n",
       "        vertical-align: top;\n",
       "    }\n",
       "\n",
       "    .dataframe thead th {\n",
       "        text-align: right;\n",
       "    }\n",
       "</style>\n",
       "<table border=\"1\" class=\"dataframe\">\n",
       "  <thead>\n",
       "    <tr style=\"text-align: right;\">\n",
       "      <th></th>\n",
       "      <th>Posicao</th>\n",
       "      <th>Musica</th>\n",
       "      <th>Artista</th>\n",
       "      <th>Ano</th>\n",
       "      <th>id</th>\n",
       "      <th>release_date</th>\n",
       "      <th>danceability</th>\n",
       "      <th>energy</th>\n",
       "      <th>key</th>\n",
       "      <th>loudness</th>\n",
       "      <th>mode</th>\n",
       "      <th>speechiness</th>\n",
       "      <th>acousticness</th>\n",
       "      <th>instrumentalness</th>\n",
       "      <th>liveness</th>\n",
       "      <th>valence</th>\n",
       "      <th>tempo</th>\n",
       "      <th>duration_ms</th>\n",
       "      <th>time_signature</th>\n",
       "    </tr>\n",
       "  </thead>\n",
       "  <tbody>\n",
       "    <tr>\n",
       "      <th>0</th>\n",
       "      <td>1.0</td>\n",
       "      <td>Balancê</td>\n",
       "      <td>Gal Costa</td>\n",
       "      <td>1980</td>\n",
       "      <td>2m1G38M0gJuE4aVPh0tmIP</td>\n",
       "      <td>1979-01-08</td>\n",
       "      <td>0.638</td>\n",
       "      <td>0.736</td>\n",
       "      <td>9.0</td>\n",
       "      <td>-10.536</td>\n",
       "      <td>1.0</td>\n",
       "      <td>0.0811</td>\n",
       "      <td>0.0849</td>\n",
       "      <td>0.000000</td>\n",
       "      <td>0.333</td>\n",
       "      <td>0.881</td>\n",
       "      <td>144.823</td>\n",
       "      <td>188667.0</td>\n",
       "      <td>4.0</td>\n",
       "    </tr>\n",
       "    <tr>\n",
       "      <th>1</th>\n",
       "      <td>4.0</td>\n",
       "      <td>Momentos</td>\n",
       "      <td>Joanna</td>\n",
       "      <td>1980</td>\n",
       "      <td>5ncQCIFnjpHWRXbuKFG8RP</td>\n",
       "      <td>2002-11-08</td>\n",
       "      <td>0.501</td>\n",
       "      <td>0.296</td>\n",
       "      <td>7.0</td>\n",
       "      <td>-12.018</td>\n",
       "      <td>0.0</td>\n",
       "      <td>0.0292</td>\n",
       "      <td>0.8020</td>\n",
       "      <td>0.006370</td>\n",
       "      <td>0.117</td>\n",
       "      <td>0.305</td>\n",
       "      <td>132.462</td>\n",
       "      <td>235147.0</td>\n",
       "      <td>4.0</td>\n",
       "    </tr>\n",
       "    <tr>\n",
       "      <th>2</th>\n",
       "      <td>5.0</td>\n",
       "      <td>Menino do Rio</td>\n",
       "      <td>Baby Consuelo</td>\n",
       "      <td>1980</td>\n",
       "      <td>6tisytwaOaBA4CAZPPdlFP</td>\n",
       "      <td>1978-09-14</td>\n",
       "      <td>0.380</td>\n",
       "      <td>0.548</td>\n",
       "      <td>0.0</td>\n",
       "      <td>-9.260</td>\n",
       "      <td>1.0</td>\n",
       "      <td>0.0333</td>\n",
       "      <td>0.7300</td>\n",
       "      <td>0.000142</td>\n",
       "      <td>0.310</td>\n",
       "      <td>0.395</td>\n",
       "      <td>152.498</td>\n",
       "      <td>263733.0</td>\n",
       "      <td>4.0</td>\n",
       "    </tr>\n",
       "    <tr>\n",
       "      <th>3</th>\n",
       "      <td>6.0</td>\n",
       "      <td>Toada (Na Direção do Dia)</td>\n",
       "      <td>Boca Livre</td>\n",
       "      <td>1980</td>\n",
       "      <td>2LO6c0rfmBm49Qs9KtQR1W</td>\n",
       "      <td>2007-01-01</td>\n",
       "      <td>0.402</td>\n",
       "      <td>0.506</td>\n",
       "      <td>6.0</td>\n",
       "      <td>-13.094</td>\n",
       "      <td>0.0</td>\n",
       "      <td>0.0409</td>\n",
       "      <td>0.9280</td>\n",
       "      <td>0.000946</td>\n",
       "      <td>0.728</td>\n",
       "      <td>0.446</td>\n",
       "      <td>97.082</td>\n",
       "      <td>233707.0</td>\n",
       "      <td>4.0</td>\n",
       "    </tr>\n",
       "    <tr>\n",
       "      <th>4</th>\n",
       "      <td>9.0</td>\n",
       "      <td>Meu Bem Querer</td>\n",
       "      <td>Djavan</td>\n",
       "      <td>1980</td>\n",
       "      <td>5ogHB4oYt1C7kaWJYm5MDG</td>\n",
       "      <td>1999-03-25</td>\n",
       "      <td>0.519</td>\n",
       "      <td>0.457</td>\n",
       "      <td>9.0</td>\n",
       "      <td>-8.450</td>\n",
       "      <td>1.0</td>\n",
       "      <td>0.0326</td>\n",
       "      <td>0.7630</td>\n",
       "      <td>0.000666</td>\n",
       "      <td>0.796</td>\n",
       "      <td>0.264</td>\n",
       "      <td>81.561</td>\n",
       "      <td>254800.0</td>\n",
       "      <td>4.0</td>\n",
       "    </tr>\n",
       "  </tbody>\n",
       "</table>\n",
       "</div>"
      ],
      "text/plain": [
       "   Posicao                       Musica        Artista   Ano  \\\n",
       "0      1.0                      Balancê      Gal Costa  1980   \n",
       "1      4.0                     Momentos         Joanna  1980   \n",
       "2      5.0                Menino do Rio  Baby Consuelo  1980   \n",
       "3      6.0  Toada (Na Direção do Dia)     Boca Livre  1980   \n",
       "4      9.0               Meu Bem Querer         Djavan  1980   \n",
       "\n",
       "                       id release_date  danceability  energy  key  loudness  \\\n",
       "0  2m1G38M0gJuE4aVPh0tmIP   1979-01-08         0.638   0.736  9.0   -10.536   \n",
       "1  5ncQCIFnjpHWRXbuKFG8RP   2002-11-08         0.501   0.296  7.0   -12.018   \n",
       "2  6tisytwaOaBA4CAZPPdlFP   1978-09-14         0.380   0.548  0.0    -9.260   \n",
       "3  2LO6c0rfmBm49Qs9KtQR1W   2007-01-01         0.402   0.506  6.0   -13.094   \n",
       "4  5ogHB4oYt1C7kaWJYm5MDG   1999-03-25         0.519   0.457  9.0    -8.450   \n",
       "\n",
       "   mode  speechiness  acousticness  instrumentalness  liveness  valence  \\\n",
       "0   1.0       0.0811        0.0849          0.000000     0.333    0.881   \n",
       "1   0.0       0.0292        0.8020          0.006370     0.117    0.305   \n",
       "2   1.0       0.0333        0.7300          0.000142     0.310    0.395   \n",
       "3   0.0       0.0409        0.9280          0.000946     0.728    0.446   \n",
       "4   1.0       0.0326        0.7630          0.000666     0.796    0.264   \n",
       "\n",
       "     tempo  duration_ms  time_signature  \n",
       "0  144.823     188667.0             4.0  \n",
       "1  132.462     235147.0             4.0  \n",
       "2  152.498     263733.0             4.0  \n",
       "3   97.082     233707.0             4.0  \n",
       "4   81.561     254800.0             4.0  "
      ]
     },
     "execution_count": 2,
     "metadata": {},
     "output_type": "execute_result"
    }
   ],
   "source": [
    "df = pd.read_excel('musicas_features.xlsx', usecols = \"B:T\")\n",
    "df = df[df['id'].notnull()]\n",
    "# df.dropna(subset=['id'])\n",
    "# df.dropna(subset=['duration_ms'])\n",
    "df = df.drop_duplicates(subset=['id'], keep='last')\n",
    "df['Ano'] = df['Ano'].astype(int)\n",
    "df.head()"
   ]
  },
  {
   "cell_type": "markdown",
   "id": "c34b7d9c",
   "metadata": {},
   "source": [
    "## Determinando a década de cada música"
   ]
  },
  {
   "cell_type": "code",
   "execution_count": 3,
   "id": "f4e805a6",
   "metadata": {},
   "outputs": [],
   "source": [
    "def obter_decada(linha):\n",
    "    ano = str(linha['Ano'])\n",
    "    if \"198\" in ano:\n",
    "        return \"1980\"\n",
    "    if \"199\" in ano:\n",
    "        return \"1999\"\n",
    "    if \"200\" in ano:\n",
    "        return \"2000\"\n",
    "    if \"201\" in ano:\n",
    "        return \"2010\"\n",
    "    return \"-\"\n",
    "\n",
    "df['Decada'] = df.apply (lambda x: obter_decada(x), axis=1)"
   ]
  },
  {
   "cell_type": "markdown",
   "id": "fb9152f2",
   "metadata": {},
   "source": [
    "##  Dividindo o dataset em base de teste e treino"
   ]
  },
  {
   "cell_type": "code",
   "execution_count": 4,
   "id": "55c07c48",
   "metadata": {},
   "outputs": [],
   "source": [
    "X = df[['danceability', 'energy', 'key', 'loudness', 'mode', \n",
    "        'speechiness', 'acousticness', 'instrumentalness', 'liveness', \n",
    "        'valence', 'tempo', 'duration_ms', 'time_signature']]\n",
    "y = df['Decada']\n",
    "X_train, X_test, y_train, y_test = train_test_split(X, y, random_state=0, test_size=0.2)"
   ]
  },
  {
   "cell_type": "code",
   "execution_count": 5,
   "id": "c05420c7",
   "metadata": {},
   "outputs": [],
   "source": [
    "sc_X = StandardScaler()\n",
    "X_train = sc_X.fit_transform(X_train)\n",
    "X_test = sc_X.fit_transform(X_test)"
   ]
  },
  {
   "cell_type": "markdown",
   "id": "299508a9",
   "metadata": {},
   "source": [
    "## Classificador"
   ]
  },
  {
   "cell_type": "code",
   "execution_count": 6,
   "id": "d6389ad7",
   "metadata": {},
   "outputs": [],
   "source": [
    "classifier = KNeighborsClassifier(\n",
    "    n_neighbors=21, # raiz quadrada do tamanho do y_test\n",
    "    p=4, # quantidade de décadas a serem testadas\n",
    "    metric='euclidean')"
   ]
  },
  {
   "cell_type": "code",
   "execution_count": 7,
   "id": "27e3d4d0",
   "metadata": {},
   "outputs": [],
   "source": [
    "# df[['danceability', 'energy', 'key', 'loudness', 'mode', \n",
    "#         'speechiness', 'acousticness', 'instrumentalness', 'liveness', \n",
    "#         'valence', 'tempo', 'duration_ms', 'time_signature']].isnull().sum()\n",
    "\n",
    "# print(np.isnan(df['danceability']).sum())\n",
    "# print(np.isnan(closingPriceTrain).any())\n",
    "# print(np.isnan(openingPriceTest).any())"
   ]
  },
  {
   "cell_type": "code",
   "execution_count": 8,
   "id": "4cefe5cd",
   "metadata": {},
   "outputs": [
    {
     "data": {
      "text/plain": [
       "KNeighborsClassifier(metric='euclidean', n_neighbors=21, p=4)"
      ]
     },
     "execution_count": 8,
     "metadata": {},
     "output_type": "execute_result"
    }
   ],
   "source": [
    "classifier.fit(X_train, y_train)"
   ]
  },
  {
   "cell_type": "code",
   "execution_count": 9,
   "id": "5eec5e14",
   "metadata": {},
   "outputs": [
    {
     "data": {
      "text/plain": [
       "array(['2010', '2010', '1999', '2000', '2010', '1999', '2010', '2010',\n",
       "       '1980', '1980', '2010', '2000', '2010', '2010', '2010', '1980',\n",
       "       '2010', '2010', '2010', '2010', '1999', '2010', '1999', '2000',\n",
       "       '2000', '1980', '1999', '1999', '2010', '2010', '1999', '1999',\n",
       "       '1980', '2010', '2010', '1999', '2010', '2010', '1999', '1999',\n",
       "       '2010', '2000', '1999', '2010', '2000', '2000', '2000', '1999',\n",
       "       '1980', '2000', '1999', '2010', '1999', '2010', '1999', '2010',\n",
       "       '1999', '2000', '2010', '2000', '1999', '2000', '2010', '1999',\n",
       "       '1980', '1999', '2000', '2000', '2000', '1999', '1999', '2010',\n",
       "       '2000', '1999', '2010', '1999', '2010', '2010', '2010', '2010',\n",
       "       '1999', '2000', '1999', '1980', '1980', '1980', '2010', '2010',\n",
       "       '2010', '2010', '1980', '1999', '2010', '2010', '2000', '1999',\n",
       "       '1980', '2010', '2000', '1980', '2010', '1980', '2010', '1999',\n",
       "       '1980', '2000', '2010', '1980', '2000', '2000', '2010', '1999',\n",
       "       '2010', '1999', '1999', '2010', '2000', '2010', '1999', '2000',\n",
       "       '2010', '2010', '2000', '2000', '2010', '2010', '1999', '2010',\n",
       "       '2010', '1999', '2010', '2000', '1980', '1999', '2000', '2010',\n",
       "       '2000', '2010', '1999', '1999', '1980', '1999', '2010', '2000',\n",
       "       '1980', '2000', '2000', '2010', '1999', '1980', '2000', '2000',\n",
       "       '2010', '2000', '1999', '2000', '2010', '2000', '2010', '2000',\n",
       "       '2010', '1999', '1980', '1999', '1999', '2010', '2010', '2000',\n",
       "       '2010', '1980', '2010', '1999', '1999', '2010', '2010', '1999',\n",
       "       '1999', '2010', '2000', '2000', '1980', '2000', '1980', '1999',\n",
       "       '2010', '2010', '1980', '2010', '1980', '1980', '2010', '2010',\n",
       "       '1999', '2000', '1980', '2000', '1999', '1999', '2010', '1980',\n",
       "       '2010', '1999', '1999', '1980', '2010', '1980', '2010', '2000',\n",
       "       '1999', '2000', '2000', '2000', '2000', '2010', '2000', '1999',\n",
       "       '2010', '2010', '2000', '2000', '1999', '1980', '2010', '2000',\n",
       "       '2010', '2010', '2000', '2000', '1980', '2010', '1980', '1980',\n",
       "       '2010', '2010', '2000', '1999', '1999', '2000', '2000', '2010',\n",
       "       '1999', '2010', '2000', '2010', '2010', '1980', '2000', '2000',\n",
       "       '2010', '1999', '2010', '1980', '2010', '2000', '1999', '2010',\n",
       "       '1999', '2000', '2010', '2010', '1999', '2000', '1999', '1999',\n",
       "       '2010', '2010', '2010', '1999', '2010', '2000', '2000', '2010',\n",
       "       '2010', '2000', '2010', '2010', '1999', '2000', '2010', '2000',\n",
       "       '1999', '2000', '2010', '2000', '2000', '1999', '2010', '2000',\n",
       "       '2000', '2010', '2010', '2010', '2010', '2010', '1999', '1999',\n",
       "       '2010', '2000', '1999', '1980', '1980', '1999', '2000', '1980',\n",
       "       '1980', '2000', '2000', '2010', '2000', '2010', '2000', '2010',\n",
       "       '1999', '1999', '1999', '1980', '2010', '2000', '1980', '1999',\n",
       "       '1999', '2010', '2010', '2000', '2000', '2010', '1999', '1999',\n",
       "       '2000', '2000', '2010', '2010', '1980', '2010', '2000', '2010',\n",
       "       '2000', '1999', '1999', '2010', '2000', '1999', '1999', '2010',\n",
       "       '2000', '2010', '1999', '1999', '2000', '1999', '2010', '1999',\n",
       "       '2010', '1999', '2010', '2000', '2000', '2010', '2000', '2010',\n",
       "       '2000', '2010', '1980', '2010', '2000', '2010', '2010', '1999',\n",
       "       '2010', '2000', '1980', '1980', '2010', '2010', '2000', '1980',\n",
       "       '1980', '1980', '2010', '1999', '2000', '2010', '2010', '1980',\n",
       "       '2010', '2010', '2010', '1999', '2000', '1999', '1999', '2010',\n",
       "       '2000', '2010', '2000', '1980', '2010', '2010', '2010', '1999',\n",
       "       '2000', '2000', '2010', '2000', '1999', '2000', '1999', '1999',\n",
       "       '1999', '1999', '2000', '2010', '2010', '2010', '1999'],\n",
       "      dtype=object)"
      ]
     },
     "execution_count": 9,
     "metadata": {},
     "output_type": "execute_result"
    }
   ],
   "source": [
    "y_pred = classifier.predict(X_test)\n",
    "y_pred"
   ]
  },
  {
   "cell_type": "code",
   "execution_count": 10,
   "id": "127f17fa",
   "metadata": {},
   "outputs": [
    {
     "name": "stdout",
     "output_type": "stream",
     "text": [
      "[[ 0  0  0  1 15]\n",
      " [ 0 24 37 14 11]\n",
      " [ 0 18 40 17 12]\n",
      " [ 0  7 17 56 25]\n",
      " [ 0  3  8 18 92]]\n"
     ]
    }
   ],
   "source": [
    "cm = confusion_matrix(y_test, y_pred)\n",
    "print(cm)"
   ]
  },
  {
   "cell_type": "code",
   "execution_count": 18,
   "id": "f76e0fb1",
   "metadata": {},
   "outputs": [
    {
     "name": "stdout",
     "output_type": "stream",
     "text": [
      "0.5108433734939759\n"
     ]
    }
   ],
   "source": [
    "print(f1_score(y_test, y_pred, average='micro'))"
   ]
  },
  {
   "cell_type": "code",
   "execution_count": 12,
   "id": "7eb3ae04",
   "metadata": {},
   "outputs": [
    {
     "name": "stdout",
     "output_type": "stream",
     "text": [
      "0.5108433734939759\n"
     ]
    }
   ],
   "source": [
    "print(accuracy_score(y_test, y_pred))"
   ]
  }
 ],
 "metadata": {
  "kernelspec": {
   "display_name": "Python 3 (ipykernel)",
   "language": "python",
   "name": "python3"
  },
  "language_info": {
   "codemirror_mode": {
    "name": "ipython",
    "version": 3
   },
   "file_extension": ".py",
   "mimetype": "text/x-python",
   "name": "python",
   "nbconvert_exporter": "python",
   "pygments_lexer": "ipython3",
   "version": "3.8.10"
  }
 },
 "nbformat": 4,
 "nbformat_minor": 5
}
