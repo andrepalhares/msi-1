{
 "cells": [
  {
   "cell_type": "markdown",
   "id": "783eac71",
   "metadata": {
    "id": "783eac71"
   },
   "source": [
    "# Classificando músicas utilizando KNN"
   ]
  },
  {
   "cell_type": "code",
   "execution_count": 1,
   "id": "29ff14b1",
   "metadata": {
    "id": "29ff14b1"
   },
   "outputs": [],
   "source": [
    "import pandas as pd\n",
    "import numpy as np\n",
    "from sklearn.model_selection import train_test_split\n",
    "from sklearn.preprocessing import StandardScaler # pre-processing, uniform data\n",
    "from sklearn.neighbors import KNeighborsClassifier \n",
    "from sklearn.metrics import confusion_matrix\n",
    "from sklearn.metrics import f1_score\n",
    "from sklearn.metrics import accuracy_score\n",
    "from sklearn.metrics import plot_confusion_matrix\n",
    "import matplotlib.pyplot as plt"
   ]
  },
  {
   "cell_type": "code",
   "execution_count": 2,
   "id": "d2769220",
   "metadata": {
    "colab": {
     "base_uri": "https://localhost:8080/",
     "height": 309
    },
    "id": "d2769220",
    "outputId": "4e764494-f7c5-432d-9668-71ddd534c597",
    "scrolled": true
   },
   "outputs": [
    {
     "data": {
      "text/html": [
       "<div>\n",
       "<style scoped>\n",
       "    .dataframe tbody tr th:only-of-type {\n",
       "        vertical-align: middle;\n",
       "    }\n",
       "\n",
       "    .dataframe tbody tr th {\n",
       "        vertical-align: top;\n",
       "    }\n",
       "\n",
       "    .dataframe thead th {\n",
       "        text-align: right;\n",
       "    }\n",
       "</style>\n",
       "<table border=\"1\" class=\"dataframe\">\n",
       "  <thead>\n",
       "    <tr style=\"text-align: right;\">\n",
       "      <th></th>\n",
       "      <th>Posicao</th>\n",
       "      <th>Musica</th>\n",
       "      <th>Artista</th>\n",
       "      <th>Ano</th>\n",
       "      <th>id</th>\n",
       "      <th>release_date</th>\n",
       "      <th>danceability</th>\n",
       "      <th>energy</th>\n",
       "      <th>key</th>\n",
       "      <th>loudness</th>\n",
       "      <th>mode</th>\n",
       "      <th>speechiness</th>\n",
       "      <th>acousticness</th>\n",
       "      <th>instrumentalness</th>\n",
       "      <th>liveness</th>\n",
       "      <th>valence</th>\n",
       "      <th>tempo</th>\n",
       "      <th>duration_ms</th>\n",
       "      <th>time_signature</th>\n",
       "    </tr>\n",
       "  </thead>\n",
       "  <tbody>\n",
       "    <tr>\n",
       "      <th>0</th>\n",
       "      <td>1.0</td>\n",
       "      <td>Balancê</td>\n",
       "      <td>Gal Costa</td>\n",
       "      <td>1980</td>\n",
       "      <td>2m1G38M0gJuE4aVPh0tmIP</td>\n",
       "      <td>1979-01-08</td>\n",
       "      <td>0.638</td>\n",
       "      <td>0.736</td>\n",
       "      <td>9.0</td>\n",
       "      <td>-10.536</td>\n",
       "      <td>1.0</td>\n",
       "      <td>0.0811</td>\n",
       "      <td>0.0849</td>\n",
       "      <td>0.000000</td>\n",
       "      <td>0.333</td>\n",
       "      <td>0.881</td>\n",
       "      <td>144.823</td>\n",
       "      <td>188667.0</td>\n",
       "      <td>4.0</td>\n",
       "    </tr>\n",
       "    <tr>\n",
       "      <th>1</th>\n",
       "      <td>4.0</td>\n",
       "      <td>Momentos</td>\n",
       "      <td>Joanna</td>\n",
       "      <td>1980</td>\n",
       "      <td>5ncQCIFnjpHWRXbuKFG8RP</td>\n",
       "      <td>2002-11-08</td>\n",
       "      <td>0.501</td>\n",
       "      <td>0.296</td>\n",
       "      <td>7.0</td>\n",
       "      <td>-12.018</td>\n",
       "      <td>0.0</td>\n",
       "      <td>0.0292</td>\n",
       "      <td>0.8020</td>\n",
       "      <td>0.006370</td>\n",
       "      <td>0.117</td>\n",
       "      <td>0.305</td>\n",
       "      <td>132.462</td>\n",
       "      <td>235147.0</td>\n",
       "      <td>4.0</td>\n",
       "    </tr>\n",
       "    <tr>\n",
       "      <th>2</th>\n",
       "      <td>5.0</td>\n",
       "      <td>Menino do Rio</td>\n",
       "      <td>Baby Consuelo</td>\n",
       "      <td>1980</td>\n",
       "      <td>6tisytwaOaBA4CAZPPdlFP</td>\n",
       "      <td>1978-09-14</td>\n",
       "      <td>0.380</td>\n",
       "      <td>0.548</td>\n",
       "      <td>0.0</td>\n",
       "      <td>-9.260</td>\n",
       "      <td>1.0</td>\n",
       "      <td>0.0333</td>\n",
       "      <td>0.7300</td>\n",
       "      <td>0.000142</td>\n",
       "      <td>0.310</td>\n",
       "      <td>0.395</td>\n",
       "      <td>152.498</td>\n",
       "      <td>263733.0</td>\n",
       "      <td>4.0</td>\n",
       "    </tr>\n",
       "    <tr>\n",
       "      <th>3</th>\n",
       "      <td>6.0</td>\n",
       "      <td>Toada (Na Direção do Dia)</td>\n",
       "      <td>Boca Livre</td>\n",
       "      <td>1980</td>\n",
       "      <td>2LO6c0rfmBm49Qs9KtQR1W</td>\n",
       "      <td>2007-01-01</td>\n",
       "      <td>0.402</td>\n",
       "      <td>0.506</td>\n",
       "      <td>6.0</td>\n",
       "      <td>-13.094</td>\n",
       "      <td>0.0</td>\n",
       "      <td>0.0409</td>\n",
       "      <td>0.9280</td>\n",
       "      <td>0.000946</td>\n",
       "      <td>0.728</td>\n",
       "      <td>0.446</td>\n",
       "      <td>97.082</td>\n",
       "      <td>233707.0</td>\n",
       "      <td>4.0</td>\n",
       "    </tr>\n",
       "    <tr>\n",
       "      <th>4</th>\n",
       "      <td>9.0</td>\n",
       "      <td>Meu Bem Querer</td>\n",
       "      <td>Djavan</td>\n",
       "      <td>1980</td>\n",
       "      <td>5ogHB4oYt1C7kaWJYm5MDG</td>\n",
       "      <td>1999-03-25</td>\n",
       "      <td>0.519</td>\n",
       "      <td>0.457</td>\n",
       "      <td>9.0</td>\n",
       "      <td>-8.450</td>\n",
       "      <td>1.0</td>\n",
       "      <td>0.0326</td>\n",
       "      <td>0.7630</td>\n",
       "      <td>0.000666</td>\n",
       "      <td>0.796</td>\n",
       "      <td>0.264</td>\n",
       "      <td>81.561</td>\n",
       "      <td>254800.0</td>\n",
       "      <td>4.0</td>\n",
       "    </tr>\n",
       "  </tbody>\n",
       "</table>\n",
       "</div>"
      ],
      "text/plain": [
       "   Posicao                       Musica        Artista   Ano  \\\n",
       "0      1.0                      Balancê      Gal Costa  1980   \n",
       "1      4.0                     Momentos         Joanna  1980   \n",
       "2      5.0                Menino do Rio  Baby Consuelo  1980   \n",
       "3      6.0  Toada (Na Direção do Dia)     Boca Livre  1980   \n",
       "4      9.0               Meu Bem Querer         Djavan  1980   \n",
       "\n",
       "                       id release_date  danceability  energy  key  loudness  \\\n",
       "0  2m1G38M0gJuE4aVPh0tmIP   1979-01-08         0.638   0.736  9.0   -10.536   \n",
       "1  5ncQCIFnjpHWRXbuKFG8RP   2002-11-08         0.501   0.296  7.0   -12.018   \n",
       "2  6tisytwaOaBA4CAZPPdlFP   1978-09-14         0.380   0.548  0.0    -9.260   \n",
       "3  2LO6c0rfmBm49Qs9KtQR1W   2007-01-01         0.402   0.506  6.0   -13.094   \n",
       "4  5ogHB4oYt1C7kaWJYm5MDG   1999-03-25         0.519   0.457  9.0    -8.450   \n",
       "\n",
       "   mode  speechiness  acousticness  instrumentalness  liveness  valence  \\\n",
       "0   1.0       0.0811        0.0849          0.000000     0.333    0.881   \n",
       "1   0.0       0.0292        0.8020          0.006370     0.117    0.305   \n",
       "2   1.0       0.0333        0.7300          0.000142     0.310    0.395   \n",
       "3   0.0       0.0409        0.9280          0.000946     0.728    0.446   \n",
       "4   1.0       0.0326        0.7630          0.000666     0.796    0.264   \n",
       "\n",
       "     tempo  duration_ms  time_signature  \n",
       "0  144.823     188667.0             4.0  \n",
       "1  132.462     235147.0             4.0  \n",
       "2  152.498     263733.0             4.0  \n",
       "3   97.082     233707.0             4.0  \n",
       "4   81.561     254800.0             4.0  "
      ]
     },
     "execution_count": 2,
     "metadata": {},
     "output_type": "execute_result"
    }
   ],
   "source": [
    "df = pd.read_excel('musicas_features.xlsx', usecols = \"B:T\")\n",
    "df = df[(df['id'].notnull()) & (df['Ano'] != 2020)]\n",
    "df = df.drop_duplicates(subset=['id'], keep='last')\n",
    "df['Ano'] = df['Ano'].astype(int)\n",
    "df.head()"
   ]
  },
  {
   "cell_type": "markdown",
   "id": "c34b7d9c",
   "metadata": {
    "id": "c34b7d9c"
   },
   "source": [
    "## Determinando a década de cada música"
   ]
  },
  {
   "cell_type": "code",
   "execution_count": 3,
   "id": "f4e805a6",
   "metadata": {
    "id": "f4e805a6"
   },
   "outputs": [],
   "source": [
    "def obter_decada(linha):\n",
    "    ano = str(linha['Ano'])\n",
    "    if \"198\" in ano:\n",
    "        return \"1980\"\n",
    "    if \"199\" in ano:\n",
    "        return \"1999\"\n",
    "    if \"200\" in ano:\n",
    "        return \"2000\"\n",
    "    if \"201\" in ano:\n",
    "        return \"2010\"\n",
    "    return \"-\"\n",
    "\n",
    "df['Decada'] = df.apply (lambda x: obter_decada(x), axis=1)"
   ]
  },
  {
   "cell_type": "markdown",
   "id": "fb9152f2",
   "metadata": {
    "id": "fb9152f2"
   },
   "source": [
    "##  Dividindo o dataset em base de teste e treino"
   ]
  },
  {
   "cell_type": "code",
   "execution_count": 4,
   "id": "55c07c48",
   "metadata": {
    "id": "55c07c48"
   },
   "outputs": [],
   "source": [
    "X = df[['danceability', 'energy', 'key', 'loudness', 'mode', \n",
    "        'speechiness', 'acousticness', 'instrumentalness', 'liveness', \n",
    "        'valence', 'tempo', 'duration_ms', 'time_signature']]\n",
    "y = df['Decada']\n",
    "X_train, X_test, y_train, y_test = train_test_split(X, y, test_size=0.3)"
   ]
  },
  {
   "cell_type": "code",
   "execution_count": 24,
   "id": "c05420c7",
   "metadata": {
    "id": "c05420c7"
   },
   "outputs": [],
   "source": [
    "sc_X = StandardScaler()\n",
    "X_train = sc_X.fit_transform(X_train)\n",
    "X_test = sc_X.fit_transform(X_test)"
   ]
  },
  {
   "cell_type": "markdown",
   "id": "82a61ee4",
   "metadata": {},
   "source": [
    "## Gerando o melhor valor para n_neighbors"
   ]
  },
  {
   "cell_type": "code",
   "execution_count": 6,
   "id": "2d05a7ef",
   "metadata": {},
   "outputs": [
    {
     "data": {
      "text/plain": [
       "GridSearchCV(estimator=KNeighborsClassifier(),\n",
       "             param_grid={'n_neighbors': array([ 1,  2,  3,  4,  5,  6,  7,  8,  9, 10, 11, 12, 13, 14, 15, 16, 17,\n",
       "       18, 19, 20, 21, 22, 23, 24, 25, 26, 27, 28, 29, 30, 31, 32, 33, 34,\n",
       "       35, 36, 37, 38, 39, 40, 41, 42, 43, 44, 45, 46, 47, 48, 49, 50, 51,\n",
       "       52, 53, 54, 55, 56, 57, 58, 59, 60, 61, 62, 63, 64, 65, 66, 67, 68,\n",
       "       69, 70, 71, 72, 73, 74, 75, 76, 77, 78, 79, 80, 81, 82, 83, 84, 85,\n",
       "       86, 87, 88, 89, 90, 91, 92, 93, 94, 95, 96, 97, 98, 99])})"
      ]
     },
     "execution_count": 6,
     "metadata": {},
     "output_type": "execute_result"
    }
   ],
   "source": [
    "from sklearn.model_selection import GridSearchCV\n",
    "\n",
    "knn = KNeighborsClassifier()\n",
    "params = {'n_neighbors': np.arange(1, 100)}\n",
    "knn_gscv = GridSearchCV(knn, params)\n",
    "knn_gscv.fit(X, y)"
   ]
  },
  {
   "cell_type": "code",
   "execution_count": 7,
   "id": "3c3c74be",
   "metadata": {},
   "outputs": [
    {
     "name": "stdout",
     "output_type": "stream",
     "text": [
      "Melhor resultado:  45\n"
     ]
    }
   ],
   "source": [
    "best_k = knn_gscv.best_params_['n_neighbors']\n",
    "print('Melhor resultado: ', best_k)"
   ]
  },
  {
   "cell_type": "markdown",
   "id": "299508a9",
   "metadata": {
    "id": "299508a9"
   },
   "source": [
    "## Classificador"
   ]
  },
  {
   "cell_type": "code",
   "execution_count": 8,
   "id": "d6389ad7",
   "metadata": {
    "id": "d6389ad7"
   },
   "outputs": [],
   "source": [
    "classifier = KNeighborsClassifier(\n",
    "    n_neighbors=best_k, # raiz quadrada do tamanho do y_test\n",
    "    p=4, # quantidade de décadas a serem testadas\n",
    "    metric='euclidean')"
   ]
  },
  {
   "cell_type": "code",
   "execution_count": 9,
   "id": "4cefe5cd",
   "metadata": {
    "colab": {
     "base_uri": "https://localhost:8080/"
    },
    "id": "4cefe5cd",
    "outputId": "7b0de58f-c556-4589-fb1a-d636a8a64f1e"
   },
   "outputs": [
    {
     "data": {
      "text/plain": [
       "KNeighborsClassifier(metric='euclidean', n_neighbors=45, p=4)"
      ]
     },
     "execution_count": 9,
     "metadata": {},
     "output_type": "execute_result"
    }
   ],
   "source": [
    "classifier.fit(X_train, y_train)"
   ]
  },
  {
   "cell_type": "code",
   "execution_count": 10,
   "id": "5eec5e14",
   "metadata": {
    "id": "5eec5e14"
   },
   "outputs": [],
   "source": [
    "y_pred = classifier.predict(X_test)"
   ]
  },
  {
   "cell_type": "code",
   "execution_count": 11,
   "id": "127f17fa",
   "metadata": {
    "colab": {
     "base_uri": "https://localhost:8080/"
    },
    "id": "127f17fa",
    "outputId": "0e538714-d4e8-413e-b297-f46638ce0e40"
   },
   "outputs": [
    {
     "name": "stdout",
     "output_type": "stream",
     "text": [
      "[[ 33  40  35  12]\n",
      " [ 31  59  30  17]\n",
      " [ 11  25  64  57]\n",
      " [  8  11  25 143]]\n"
     ]
    }
   ],
   "source": [
    "cm = confusion_matrix(y_test, y_pred)\n",
    "print(cm)"
   ]
  },
  {
   "cell_type": "code",
   "execution_count": 12,
   "id": "f76e0fb1",
   "metadata": {
    "colab": {
     "base_uri": "https://localhost:8080/"
    },
    "id": "f76e0fb1",
    "outputId": "504822ef-49f5-486f-b301-423fbc48f917"
   },
   "outputs": [
    {
     "name": "stdout",
     "output_type": "stream",
     "text": [
      "0.48523871081295566\n"
     ]
    }
   ],
   "source": [
    "# https://scikit-learn.org/stable/modules/generated/sklearn.metrics.f1_score.html\n",
    "print(f1_score(y_test, y_pred, average='weighted'))"
   ]
  },
  {
   "cell_type": "code",
   "execution_count": 13,
   "id": "7eb3ae04",
   "metadata": {
    "colab": {
     "base_uri": "https://localhost:8080/"
    },
    "id": "7eb3ae04",
    "outputId": "d761cf2f-f3f4-4cb3-dceb-3f3816975ed0"
   },
   "outputs": [
    {
     "name": "stdout",
     "output_type": "stream",
     "text": [
      "0.49750415973377704\n"
     ]
    }
   ],
   "source": [
    "print(accuracy_score(y_test, y_pred))"
   ]
  },
  {
   "cell_type": "code",
   "execution_count": 22,
   "id": "YQQZBlsnHiV-",
   "metadata": {
    "colab": {
     "base_uri": "https://localhost:8080/",
     "height": 573
    },
    "id": "YQQZBlsnHiV-",
    "outputId": "2b8084a0-d826-4724-deab-92ca8094da30"
   },
   "outputs": [
    {
     "data": {
      "image/png": "[encoded data removed]",
      "text/plain": [
       "<Figure size 432x288 with 2 Axes>"
      ]
     },
     "metadata": {
      "needs_background": "light"
     },
     "output_type": "display_data"
    }
   ],
   "source": [
    "disp = plot_confusion_matrix(classifier, X_test, y_test,\n",
    "                             display_labels=[1980, 1990, 2000, 2010],\n",
    "                             cmap=plt.cm.Greens,\n",
    "                             normalize='true')\n",
    "\n",
    "plt.show()"
   ]
  }
 ],
 "metadata": {
  "colab": {
   "collapsed_sections": [],
   "name": "4 - Classificando músicas utilizando KNN.ipynb",
   "provenance": []
  },
  "kernelspec": {
   "display_name": "Python 3 (ipykernel)",
   "language": "python",
   "name": "python3"
  },
  "language_info": {
   "codemirror_mode": {
    "name": "ipython",
    "version": 3
   },
   "file_extension": ".py",
   "mimetype": "text/x-python",
   "name": "python",
   "nbconvert_exporter": "python",
   "pygments_lexer": "ipython3",
   "version": "3.8.10"
  }
 },
 "nbformat": 4,
 "nbformat_minor": 5
}
