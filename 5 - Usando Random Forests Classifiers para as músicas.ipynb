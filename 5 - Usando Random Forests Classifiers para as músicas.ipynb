{
 "cells": [
  {
   "cell_type": "code",
   "execution_count": 1,
   "id": "a05d8d37",
   "metadata": {},
   "outputs": [],
   "source": [
    "import pandas as pd\n",
    "import numpy as np\n",
    "import matplotlib.pyplot as plt\n",
    "from sklearn.model_selection import train_test_split\n",
    "from sklearn.ensemble import RandomForestClassifier\n",
    "from sklearn import metrics #accuracy calculation\n",
    "import seaborn as sns\n",
    "from sklearn.metrics import plot_confusion_matrix"
   ]
  },
  {
   "cell_type": "code",
   "execution_count": 2,
   "id": "c73b0e1f",
   "metadata": {},
   "outputs": [
    {
     "data": {
      "text/html": [
       "<div>\n",
       "<style scoped>\n",
       "    .dataframe tbody tr th:only-of-type {\n",
       "        vertical-align: middle;\n",
       "    }\n",
       "\n",
       "    .dataframe tbody tr th {\n",
       "        vertical-align: top;\n",
       "    }\n",
       "\n",
       "    .dataframe thead th {\n",
       "        text-align: right;\n",
       "    }\n",
       "</style>\n",
       "<table border=\"1\" class=\"dataframe\">\n",
       "  <thead>\n",
       "    <tr style=\"text-align: right;\">\n",
       "      <th></th>\n",
       "      <th>Posicao</th>\n",
       "      <th>Musica</th>\n",
       "      <th>Artista</th>\n",
       "      <th>Ano</th>\n",
       "      <th>id</th>\n",
       "      <th>release_date</th>\n",
       "      <th>danceability</th>\n",
       "      <th>energy</th>\n",
       "      <th>key</th>\n",
       "      <th>loudness</th>\n",
       "      <th>mode</th>\n",
       "      <th>speechiness</th>\n",
       "      <th>acousticness</th>\n",
       "      <th>instrumentalness</th>\n",
       "      <th>liveness</th>\n",
       "      <th>valence</th>\n",
       "      <th>tempo</th>\n",
       "      <th>duration_ms</th>\n",
       "      <th>time_signature</th>\n",
       "    </tr>\n",
       "  </thead>\n",
       "  <tbody>\n",
       "    <tr>\n",
       "      <th>0</th>\n",
       "      <td>1.0</td>\n",
       "      <td>Balancê</td>\n",
       "      <td>Gal Costa</td>\n",
       "      <td>1980</td>\n",
       "      <td>2m1G38M0gJuE4aVPh0tmIP</td>\n",
       "      <td>1979-01-08</td>\n",
       "      <td>0.638</td>\n",
       "      <td>0.736</td>\n",
       "      <td>9.0</td>\n",
       "      <td>-10.536</td>\n",
       "      <td>1.0</td>\n",
       "      <td>0.0811</td>\n",
       "      <td>0.0849</td>\n",
       "      <td>0.000000</td>\n",
       "      <td>0.333</td>\n",
       "      <td>0.881</td>\n",
       "      <td>144.823</td>\n",
       "      <td>188667.0</td>\n",
       "      <td>4.0</td>\n",
       "    </tr>\n",
       "    <tr>\n",
       "      <th>1</th>\n",
       "      <td>4.0</td>\n",
       "      <td>Momentos</td>\n",
       "      <td>Joanna</td>\n",
       "      <td>1980</td>\n",
       "      <td>5ncQCIFnjpHWRXbuKFG8RP</td>\n",
       "      <td>2002-11-08</td>\n",
       "      <td>0.501</td>\n",
       "      <td>0.296</td>\n",
       "      <td>7.0</td>\n",
       "      <td>-12.018</td>\n",
       "      <td>0.0</td>\n",
       "      <td>0.0292</td>\n",
       "      <td>0.8020</td>\n",
       "      <td>0.006370</td>\n",
       "      <td>0.117</td>\n",
       "      <td>0.305</td>\n",
       "      <td>132.462</td>\n",
       "      <td>235147.0</td>\n",
       "      <td>4.0</td>\n",
       "    </tr>\n",
       "    <tr>\n",
       "      <th>2</th>\n",
       "      <td>5.0</td>\n",
       "      <td>Menino do Rio</td>\n",
       "      <td>Baby Consuelo</td>\n",
       "      <td>1980</td>\n",
       "      <td>6tisytwaOaBA4CAZPPdlFP</td>\n",
       "      <td>1978-09-14</td>\n",
       "      <td>0.380</td>\n",
       "      <td>0.548</td>\n",
       "      <td>0.0</td>\n",
       "      <td>-9.260</td>\n",
       "      <td>1.0</td>\n",
       "      <td>0.0333</td>\n",
       "      <td>0.7300</td>\n",
       "      <td>0.000142</td>\n",
       "      <td>0.310</td>\n",
       "      <td>0.395</td>\n",
       "      <td>152.498</td>\n",
       "      <td>263733.0</td>\n",
       "      <td>4.0</td>\n",
       "    </tr>\n",
       "    <tr>\n",
       "      <th>3</th>\n",
       "      <td>6.0</td>\n",
       "      <td>Toada (Na Direção do Dia)</td>\n",
       "      <td>Boca Livre</td>\n",
       "      <td>1980</td>\n",
       "      <td>2LO6c0rfmBm49Qs9KtQR1W</td>\n",
       "      <td>2007-01-01</td>\n",
       "      <td>0.402</td>\n",
       "      <td>0.506</td>\n",
       "      <td>6.0</td>\n",
       "      <td>-13.094</td>\n",
       "      <td>0.0</td>\n",
       "      <td>0.0409</td>\n",
       "      <td>0.9280</td>\n",
       "      <td>0.000946</td>\n",
       "      <td>0.728</td>\n",
       "      <td>0.446</td>\n",
       "      <td>97.082</td>\n",
       "      <td>233707.0</td>\n",
       "      <td>4.0</td>\n",
       "    </tr>\n",
       "    <tr>\n",
       "      <th>4</th>\n",
       "      <td>9.0</td>\n",
       "      <td>Meu Bem Querer</td>\n",
       "      <td>Djavan</td>\n",
       "      <td>1980</td>\n",
       "      <td>5ogHB4oYt1C7kaWJYm5MDG</td>\n",
       "      <td>1999-03-25</td>\n",
       "      <td>0.519</td>\n",
       "      <td>0.457</td>\n",
       "      <td>9.0</td>\n",
       "      <td>-8.450</td>\n",
       "      <td>1.0</td>\n",
       "      <td>0.0326</td>\n",
       "      <td>0.7630</td>\n",
       "      <td>0.000666</td>\n",
       "      <td>0.796</td>\n",
       "      <td>0.264</td>\n",
       "      <td>81.561</td>\n",
       "      <td>254800.0</td>\n",
       "      <td>4.0</td>\n",
       "    </tr>\n",
       "  </tbody>\n",
       "</table>\n",
       "</div>"
      ],
      "text/plain": [
       "   Posicao                       Musica        Artista   Ano  \\\n",
       "0      1.0                      Balancê      Gal Costa  1980   \n",
       "1      4.0                     Momentos         Joanna  1980   \n",
       "2      5.0                Menino do Rio  Baby Consuelo  1980   \n",
       "3      6.0  Toada (Na Direção do Dia)     Boca Livre  1980   \n",
       "4      9.0               Meu Bem Querer         Djavan  1980   \n",
       "\n",
       "                       id release_date  danceability  energy  key  loudness  \\\n",
       "0  2m1G38M0gJuE4aVPh0tmIP   1979-01-08         0.638   0.736  9.0   -10.536   \n",
       "1  5ncQCIFnjpHWRXbuKFG8RP   2002-11-08         0.501   0.296  7.0   -12.018   \n",
       "2  6tisytwaOaBA4CAZPPdlFP   1978-09-14         0.380   0.548  0.0    -9.260   \n",
       "3  2LO6c0rfmBm49Qs9KtQR1W   2007-01-01         0.402   0.506  6.0   -13.094   \n",
       "4  5ogHB4oYt1C7kaWJYm5MDG   1999-03-25         0.519   0.457  9.0    -8.450   \n",
       "\n",
       "   mode  speechiness  acousticness  instrumentalness  liveness  valence  \\\n",
       "0   1.0       0.0811        0.0849          0.000000     0.333    0.881   \n",
       "1   0.0       0.0292        0.8020          0.006370     0.117    0.305   \n",
       "2   1.0       0.0333        0.7300          0.000142     0.310    0.395   \n",
       "3   0.0       0.0409        0.9280          0.000946     0.728    0.446   \n",
       "4   1.0       0.0326        0.7630          0.000666     0.796    0.264   \n",
       "\n",
       "     tempo  duration_ms  time_signature  \n",
       "0  144.823     188667.0             4.0  \n",
       "1  132.462     235147.0             4.0  \n",
       "2  152.498     263733.0             4.0  \n",
       "3   97.082     233707.0             4.0  \n",
       "4   81.561     254800.0             4.0  "
      ]
     },
     "execution_count": 2,
     "metadata": {},
     "output_type": "execute_result"
    }
   ],
   "source": [
    "df = pd.read_excel('musicas_features.xlsx', usecols = \"B:T\")\n",
    "df = df[(df['id'].notnull()) & (df['Ano'] != 2020)]\n",
    "df = df.drop_duplicates(subset=['id'], keep='last')\n",
    "df['Ano'] = df['Ano'].astype(int)\n",
    "df.head()"
   ]
  },
  {
   "cell_type": "markdown",
   "id": "0fdc361a",
   "metadata": {},
   "source": [
    "## Determinando a década de cada música"
   ]
  },
  {
   "cell_type": "code",
   "execution_count": 3,
   "id": "3480bf46",
   "metadata": {},
   "outputs": [],
   "source": [
    "def obter_decada(linha):\n",
    "    ano = str(linha['Ano'])\n",
    "    if \"198\" in ano:\n",
    "        return \"1980\"\n",
    "    if \"199\" in ano:\n",
    "        return \"1999\"\n",
    "    if \"200\" in ano:\n",
    "        return \"2000\"\n",
    "    if \"201\" in ano:\n",
    "        return \"2010\"\n",
    "    return \"-\"\n",
    "\n",
    "df['Decada'] = df.apply (lambda x: obter_decada(x), axis=1)"
   ]
  },
  {
   "cell_type": "code",
   "execution_count": 4,
   "id": "e93fe58c",
   "metadata": {},
   "outputs": [
    {
     "data": {
      "text/plain": [
       "Posicao             0\n",
       "Musica              0\n",
       "Artista             0\n",
       "Ano                 0\n",
       "id                  0\n",
       "release_date        0\n",
       "danceability        0\n",
       "energy              0\n",
       "key                 0\n",
       "loudness            0\n",
       "mode                0\n",
       "speechiness         0\n",
       "acousticness        0\n",
       "instrumentalness    0\n",
       "liveness            0\n",
       "valence             0\n",
       "tempo               0\n",
       "duration_ms         0\n",
       "time_signature      0\n",
       "Decada              0\n",
       "dtype: int64"
      ]
     },
     "execution_count": 4,
     "metadata": {},
     "output_type": "execute_result"
    }
   ],
   "source": [
    "df.isnull().sum()"
   ]
  },
  {
   "cell_type": "markdown",
   "id": "d9884157",
   "metadata": {},
   "source": [
    "##  Dividindo o dataset em base de teste e treino"
   ]
  },
  {
   "cell_type": "code",
   "execution_count": 5,
   "id": "afa3ceb8",
   "metadata": {},
   "outputs": [],
   "source": [
    "atributos = ['danceability', 'energy', 'key', 'loudness', 'mode', \n",
    "        'speechiness', 'acousticness', 'instrumentalness', 'liveness', \n",
    "        'valence', 'tempo', 'duration_ms', 'time_signature']\n",
    "\n",
    "X = df[atributos]\n",
    "y = pd.factorize(df['Decada'])[0]\n",
    "\n",
    "X_train, X_test, y_train, y_test = train_test_split(X, y, test_size=0.3)"
   ]
  },
  {
   "cell_type": "markdown",
   "id": "c2d53676",
   "metadata": {},
   "source": [
    "## Encontrando os melhores parâmetros "
   ]
  },
  {
   "cell_type": "code",
   "execution_count": 19,
   "id": "13ddd82c",
   "metadata": {},
   "outputs": [
    {
     "name": "stdout",
     "output_type": "stream",
     "text": [
      "{'n_estimators': [1000, 1081, 1163, 1244, 1326, 1408, 1489, 1571, 1653, 1734, 1816, 1897, 1979, 2061, 2142, 2224, 2306, 2387, 2469, 2551, 2632, 2714, 2795, 2877, 2959, 3040, 3122, 3204, 3285, 3367, 3448, 3530, 3612, 3693, 3775, 3857, 3938, 4020, 4102, 4183, 4265, 4346, 4428, 4510, 4591, 4673, 4755, 4836, 4918, 5000], 'max_depth': [10, 30, 50, 70, 90, 110, 130, 150, 170, 190, 210]}\n",
      "[CV] END bootstrap=True, max_depth=50, max_features=auto, min_samples_leaf=4, min_samples_split=5, n_estimators=1888; total time=  15.5s\n",
      "[CV] END bootstrap=True, max_depth=130, max_features=auto, min_samples_leaf=2, min_samples_split=5, n_estimators=4555; total time=  37.9s\n",
      "[CV] END bootstrap=False, max_depth=90, max_features=auto, min_samples_leaf=4, min_samples_split=10, n_estimators=5000; total time=  43.3s\n",
      "[CV] END bootstrap=False, max_depth=190, max_features=sqrt, min_samples_leaf=2, min_samples_split=2, n_estimators=5000; total time=  49.3s\n",
      "[CV] END bootstrap=False, max_depth=30, max_features=sqrt, min_samples_leaf=2, min_samples_split=10, n_estimators=4111; total time=  37.3s\n",
      "[CV] END bootstrap=True, max_depth=90, max_features=auto, min_samples_leaf=2, min_samples_split=2, n_estimators=3222; total time=  25.6s\n",
      "[CV] END bootstrap=False, max_depth=130, max_features=auto, min_samples_leaf=2, min_samples_split=2, n_estimators=2777; total time=  23.7s\n",
      "[CV] END bootstrap=False, max_depth=130, max_features=auto, min_samples_leaf=2, min_samples_split=2, n_estimators=2777; total time=  24.5s\n",
      "[CV] END bootstrap=False, max_depth=150, max_features=auto, min_samples_leaf=4, min_samples_split=10, n_estimators=4555; total time=  36.2s\n",
      "[CV] END bootstrap=True, max_depth=150, max_features=auto, min_samples_leaf=4, min_samples_split=5, n_estimators=4555; total time=  33.5s\n",
      "[CV] END bootstrap=False, max_depth=30, max_features=sqrt, min_samples_leaf=1, min_samples_split=10, n_estimators=5000; total time=  44.0s\n",
      "[CV] END bootstrap=True, max_depth=10, max_features=sqrt, min_samples_leaf=4, min_samples_split=5, n_estimators=3666; total time=  27.2s\n",
      "[CV] END bootstrap=True, max_depth=170, max_features=auto, min_samples_leaf=2, min_samples_split=10, n_estimators=1000; total time=   7.4s\n",
      "[CV] END bootstrap=True, max_depth=170, max_features=auto, min_samples_leaf=2, min_samples_split=10, n_estimators=1000; total time=   7.3s\n",
      "[CV] END bootstrap=False, max_depth=110, max_features=auto, min_samples_leaf=1, min_samples_split=2, n_estimators=2777; total time=  26.9s\n",
      "[CV] END bootstrap=False, max_depth=190, max_features=auto, min_samples_leaf=1, min_samples_split=10, n_estimators=1888; total time=  17.5s\n",
      "[CV] END ..................................n_estimators=2061; total time=  18.6s\n",
      "[CV] END ..................................n_estimators=4183; total time=  37.4s\n",
      "[CV] END ..................................n_estimators=4673; total time=  41.2s\n",
      "[CV] END ..................................n_estimators=2387; total time=  20.6s\n",
      "[CV] END ..................................n_estimators=4918; total time=  43.2s\n",
      "[CV] END ..................................n_estimators=3040; total time=  26.4s\n",
      "[CV] END ..................................n_estimators=3612; total time=  31.7s\n",
      "[CV] END bootstrap=True, max_depth=50, max_features=auto, min_samples_leaf=4, min_samples_split=5, n_estimators=1888; total time=  15.8s\n",
      "[CV] END bootstrap=True, max_depth=130, max_features=auto, min_samples_leaf=2, min_samples_split=5, n_estimators=4555; total time=  38.5s\n",
      "[CV] END bootstrap=True, max_depth=210, max_features=sqrt, min_samples_leaf=4, min_samples_split=2, n_estimators=2333; total time=  17.8s\n",
      "[CV] END bootstrap=True, max_depth=210, max_features=sqrt, min_samples_leaf=4, min_samples_split=2, n_estimators=2333; total time=  17.8s\n",
      "[CV] END bootstrap=True, max_depth=50, max_features=sqrt, min_samples_leaf=1, min_samples_split=2, n_estimators=4111; total time=  37.8s\n",
      "[CV] END bootstrap=False, max_depth=190, max_features=sqrt, min_samples_leaf=2, min_samples_split=2, n_estimators=5000; total time=  48.5s\n",
      "[CV] END bootstrap=True, max_depth=90, max_features=auto, min_samples_leaf=2, min_samples_split=2, n_estimators=3222; total time=  25.7s\n",
      "[CV] END bootstrap=True, max_depth=190, max_features=sqrt, min_samples_leaf=4, min_samples_split=10, n_estimators=4555; total time=  32.4s\n",
      "[CV] END bootstrap=False, max_depth=150, max_features=auto, min_samples_leaf=4, min_samples_split=10, n_estimators=4555; total time=  36.8s\n",
      "[CV] END bootstrap=False, max_depth=10, max_features=sqrt, min_samples_leaf=4, min_samples_split=5, n_estimators=4555; total time=  35.4s\n",
      "[CV] END bootstrap=True, max_depth=150, max_features=auto, min_samples_leaf=4, min_samples_split=5, n_estimators=4555; total time=  35.0s\n",
      "[CV] END bootstrap=True, max_depth=50, max_features=auto, min_samples_leaf=2, min_samples_split=10, n_estimators=1000; total time=   7.8s\n",
      "[CV] END bootstrap=True, max_depth=50, max_features=auto, min_samples_leaf=2, min_samples_split=10, n_estimators=1000; total time=   7.2s\n",
      "[CV] END bootstrap=False, max_depth=30, max_features=auto, min_samples_leaf=1, min_samples_split=5, n_estimators=3666; total time=  33.5s\n",
      "[CV] END bootstrap=True, max_depth=10, max_features=sqrt, min_samples_leaf=4, min_samples_split=5, n_estimators=3666; total time=  26.4s\n",
      "[CV] END bootstrap=False, max_depth=110, max_features=auto, min_samples_leaf=1, min_samples_split=2, n_estimators=2777; total time=  28.1s\n",
      "[CV] END bootstrap=True, max_depth=70, max_features=sqrt, min_samples_leaf=1, min_samples_split=10, n_estimators=3222; total time=  24.0s\n",
      "[CV] END ..................................n_estimators=2061; total time=  18.8s\n",
      "[CV] END ..................................n_estimators=3448; total time=  30.3s\n",
      "[CV] END ..................................n_estimators=3448; total time=  31.5s\n",
      "[CV] END ..................................n_estimators=2387; total time=  20.5s\n",
      "[CV] END ..................................n_estimators=4918; total time=  42.3s\n",
      "[CV] END ..................................n_estimators=3122; total time=  28.0s\n",
      "[CV] END ..................................n_estimators=3040; total time=  25.8s\n",
      "[CV] END ..................................n_estimators=2551; total time=  22.0s\n",
      "[CV] END bootstrap=False, max_depth=90, max_features=auto, min_samples_leaf=4, min_samples_split=10, n_estimators=5000; total time=  42.5s\n",
      "[CV] END bootstrap=True, max_depth=50, max_features=sqrt, min_samples_leaf=1, min_samples_split=2, n_estimators=4111; total time=  38.6s\n",
      "[CV] END bootstrap=False, max_depth=30, max_features=sqrt, min_samples_leaf=2, min_samples_split=10, n_estimators=4111; total time=  37.0s\n",
      "[CV] END bootstrap=False, max_depth=30, max_features=sqrt, min_samples_leaf=2, min_samples_split=10, n_estimators=4111; total time=  36.0s\n",
      "[CV] END bootstrap=True, max_depth=190, max_features=sqrt, min_samples_leaf=4, min_samples_split=10, n_estimators=4555; total time=  32.1s\n",
      "[CV] END bootstrap=False, max_depth=150, max_features=auto, min_samples_leaf=4, min_samples_split=10, n_estimators=4555; total time=  36.8s\n",
      "[CV] END bootstrap=False, max_depth=10, max_features=sqrt, min_samples_leaf=4, min_samples_split=5, n_estimators=4555; total time=  35.1s\n",
      "[CV] END bootstrap=False, max_depth=30, max_features=sqrt, min_samples_leaf=1, min_samples_split=10, n_estimators=5000; total time=  44.4s\n",
      "[CV] END bootstrap=True, max_depth=50, max_features=auto, min_samples_leaf=2, min_samples_split=10, n_estimators=1000; total time=   7.5s\n",
      "[CV] END bootstrap=False, max_depth=30, max_features=auto, min_samples_leaf=1, min_samples_split=5, n_estimators=3666; total time=  34.0s\n",
      "[CV] END bootstrap=True, max_depth=10, max_features=sqrt, min_samples_leaf=4, min_samples_split=5, n_estimators=3666; total time=  26.1s\n",
      "[CV] END bootstrap=False, max_depth=190, max_features=auto, min_samples_leaf=1, min_samples_split=10, n_estimators=1888; total time=  17.7s\n",
      "[CV] END bootstrap=True, max_depth=70, max_features=sqrt, min_samples_leaf=1, min_samples_split=10, n_estimators=3222; total time=  24.9s\n",
      "[CV] END ..................................n_estimators=2061; total time=  18.5s\n",
      "[CV] END ..................................n_estimators=4183; total time=  37.6s\n",
      "[CV] END ..................................n_estimators=4673; total time=  42.0s\n",
      "[CV] END ..................................n_estimators=2387; total time=  20.6s\n",
      "[CV] END ..................................n_estimators=3122; total time=  27.0s\n",
      "[CV] END ..................................n_estimators=3122; total time=  27.8s\n",
      "[CV] END ..................................n_estimators=3612; total time=  31.0s\n",
      "[CV] END ..................................n_estimators=2551; total time=  20.0s\n"
     ]
    },
    {
     "name": "stdout",
     "output_type": "stream",
     "text": [
      "[CV] END bootstrap=False, max_depth=10, max_features=auto, min_samples_leaf=1, min_samples_split=5, n_estimators=5000; total time=  42.6s\n",
      "[CV] END bootstrap=False, max_depth=130, max_features=sqrt, min_samples_leaf=2, min_samples_split=5, n_estimators=3222; total time=  29.2s\n",
      "[CV] END bootstrap=False, max_depth=10, max_features=auto, min_samples_leaf=2, min_samples_split=2, n_estimators=3222; total time=  30.0s\n",
      "[CV] END bootstrap=False, max_depth=90, max_features=auto, min_samples_leaf=4, min_samples_split=10, n_estimators=5000; total time=  42.9s\n",
      "[CV] END bootstrap=True, max_depth=210, max_features=sqrt, min_samples_leaf=4, min_samples_split=2, n_estimators=2333; total time=  17.8s\n",
      "[CV] END bootstrap=True, max_depth=50, max_features=sqrt, min_samples_leaf=1, min_samples_split=2, n_estimators=4111; total time=  37.2s\n",
      "[CV] END bootstrap=False, max_depth=190, max_features=sqrt, min_samples_leaf=2, min_samples_split=2, n_estimators=5000; total time=  48.6s\n",
      "[CV] END bootstrap=True, max_depth=90, max_features=auto, min_samples_leaf=2, min_samples_split=2, n_estimators=3222; total time=  26.0s\n",
      "[CV] END bootstrap=True, max_depth=190, max_features=sqrt, min_samples_leaf=4, min_samples_split=10, n_estimators=4555; total time=  32.1s\n",
      "[CV] END bootstrap=False, max_depth=130, max_features=auto, min_samples_leaf=2, min_samples_split=2, n_estimators=2777; total time=  24.7s\n",
      "[CV] END bootstrap=False, max_depth=10, max_features=sqrt, min_samples_leaf=4, min_samples_split=5, n_estimators=4555; total time=  35.1s\n",
      "[CV] END bootstrap=True, max_depth=150, max_features=auto, min_samples_leaf=4, min_samples_split=5, n_estimators=4555; total time=  33.7s\n",
      "[CV] END bootstrap=False, max_depth=30, max_features=sqrt, min_samples_leaf=1, min_samples_split=10, n_estimators=5000; total time=  43.7s\n",
      "[CV] END bootstrap=False, max_depth=30, max_features=auto, min_samples_leaf=1, min_samples_split=5, n_estimators=3666; total time=  33.9s\n",
      "[CV] END bootstrap=True, max_depth=170, max_features=auto, min_samples_leaf=2, min_samples_split=10, n_estimators=1000; total time=   7.2s\n",
      "[CV] END bootstrap=False, max_depth=110, max_features=auto, min_samples_leaf=1, min_samples_split=2, n_estimators=2777; total time=  26.7s\n",
      "[CV] END bootstrap=False, max_depth=190, max_features=auto, min_samples_leaf=1, min_samples_split=10, n_estimators=1888; total time=  17.1s\n",
      "[CV] END bootstrap=True, max_depth=70, max_features=sqrt, min_samples_leaf=1, min_samples_split=10, n_estimators=3222; total time=  22.1s\n",
      "[CV] END ..................................n_estimators=4183; total time=  37.5s\n",
      "[CV] END ..................................n_estimators=3448; total time=  31.2s\n",
      "[CV] END ..................................n_estimators=4673; total time=  42.0s\n",
      "[CV] END ..................................n_estimators=4918; total time=  42.2s\n",
      "[CV] END ..................................n_estimators=3040; total time=  26.5s\n",
      "[CV] END ..................................n_estimators=3612; total time=  30.8s\n",
      "[CV] END ..................................n_estimators=2551; total time=  19.2s\n"
     ]
    }
   ],
   "source": [
    "from sklearn.model_selection import RandomizedSearchCV\n",
    "\n",
    "# # Para cada parâmetro que o RandomForestClassifier pode receber, vamos atruir uma lista de possíveis valores a eles. \n",
    "\n",
    "# # Create the random grid\n",
    "random_grid = {'n_estimators': [int(x) for x in np.linspace(start = 1000, stop = 5000, num = 50)], # Number of trees in random forest\n",
    "#                'max_features': ['auto', 'sqrt'], # Number of features to consider at every split\n",
    "               'max_depth': [int(x) for x in np.linspace(10, 210, num = 11)], # Maximum number of levels in tree\n",
    "#                'min_samples_split': [2, 5, 10], # Minimum number of samples required to split a node\n",
    "#                'min_samples_leaf': [1, 2, 4], # Minimum number of samples required at each leaf node\n",
    "#                'bootstrap': [True, False] # # Method of selecting samples for training each tree\n",
    "              } \n",
    "\n",
    "print(random_grid)"
   ]
  },
  {
   "cell_type": "code",
   "execution_count": 20,
   "id": "335c7dec",
   "metadata": {},
   "outputs": [
    {
     "name": "stdout",
     "output_type": "stream",
     "text": [
      "Fitting 3 folds for each of 10 candidates, totalling 30 fits\n"
     ]
    },
    {
     "data": {
      "text/plain": [
       "RandomizedSearchCV(cv=3, estimator=RandomForestClassifier(), n_jobs=-1,\n",
       "                   param_distributions={'max_depth': [10, 30, 50, 70, 90, 110,\n",
       "                                                      130, 150, 170, 190, 210],\n",
       "                                        'n_estimators': [1000, 1081, 1163, 1244,\n",
       "                                                         1326, 1408, 1489, 1571,\n",
       "                                                         1653, 1734, 1816, 1897,\n",
       "                                                         1979, 2061, 2142, 2224,\n",
       "                                                         2306, 2387, 2469, 2551,\n",
       "                                                         2632, 2714, 2795, 2877,\n",
       "                                                         2959, 3040, 3122, 3204,\n",
       "                                                         3285, 3367, ...]},\n",
       "                   random_state=42, verbose=2)"
      ]
     },
     "execution_count": 20,
     "metadata": {},
     "output_type": "execute_result"
    }
   ],
   "source": [
    "# Use the random grid to search for best hyperparameters\n",
    "\n",
    "# First create the base model to tune\n",
    "rf = RandomForestClassifier()\n",
    "\n",
    "# Random search of parameters, using 3 fold cross validation, \n",
    "# search across 100 different combinations, and use all available cores\n",
    "rf_random = RandomizedSearchCV(estimator = rf, \n",
    "                               param_distributions=random_grid, \n",
    "#                                n_iter = 100, \n",
    "                               cv=3, \n",
    "                               verbose=2, \n",
    "                               random_state=42, \n",
    "                               n_jobs=-1)\n",
    "\n",
    "rf_random.fit(X_train, y_train)"
   ]
  },
  {
   "cell_type": "code",
   "execution_count": 21,
   "id": "5dc9d24f",
   "metadata": {},
   "outputs": [
    {
     "name": "stdout",
     "output_type": "stream",
     "text": [
      "{'n_estimators': 3775, 'max_depth': 30}\n"
     ]
    }
   ],
   "source": [
    "print(rf_random.best_params_)"
   ]
  },
  {
   "cell_type": "markdown",
   "id": "938342b8",
   "metadata": {},
   "source": [
    "## Classificando os dados"
   ]
  },
  {
   "cell_type": "code",
   "execution_count": 22,
   "id": "f18279a0",
   "metadata": {},
   "outputs": [
    {
     "data": {
      "text/plain": [
       "RandomForestClassifier(max_depth=30, n_estimators=3775)"
      ]
     },
     "execution_count": 22,
     "metadata": {},
     "output_type": "execute_result"
    }
   ],
   "source": [
    "rfc = RandomForestClassifier(n_estimators=3775, max_depth=30)\n",
    "rfc.fit(X_train, y_train)"
   ]
  },
  {
   "cell_type": "code",
   "execution_count": null,
   "id": "8fa0efda",
   "metadata": {},
   "outputs": [],
   "source": [
    "rfc.predict_proba(X_test)[0:10]"
   ]
  },
  {
   "cell_type": "code",
   "execution_count": 23,
   "id": "0d2080f1",
   "metadata": {},
   "outputs": [
    {
     "name": "stdout",
     "output_type": "stream",
     "text": [
      "accuracy_score: 0.5490848585690515\n",
      "f1_score: 0.5481596410291154\n"
     ]
    }
   ],
   "source": [
    "y_pred = rfc.predict(X_test)\n",
    "\n",
    "print(\"accuracy_score:\",metrics.accuracy_score(y_test, y_pred))\n",
    "print(\"f1_score:\",metrics.f1_score(y_test, y_pred, average='weighted'))"
   ]
  },
  {
   "cell_type": "code",
   "execution_count": 24,
   "id": "e4b30c99",
   "metadata": {},
   "outputs": [
    {
     "data": {
      "image/png": "[encoded data removed]",
      "text/plain": [
       "<Figure size 432x288 with 2 Axes>"
      ]
     },
     "metadata": {
      "needs_background": "light"
     },
     "output_type": "display_data"
    }
   ],
   "source": [
    "disp = plot_confusion_matrix(rfc, X_test, y_test,\n",
    "                             display_labels=[1980, 1990, 2000, 2010],\n",
    "                             cmap=plt.cm.Greens,\n",
    "                             normalize='true')\n",
    "\n",
    "plt.show()"
   ]
  },
  {
   "cell_type": "markdown",
   "id": "b924a4ea",
   "metadata": {},
   "source": [
    "## Descobrindo atributos mais importantes "
   ]
  },
  {
   "cell_type": "code",
   "execution_count": 16,
   "id": "89f3d5a6",
   "metadata": {},
   "outputs": [
    {
     "data": {
      "text/plain": [
       "loudness            0.165080\n",
       "duration_ms         0.139014\n",
       "energy              0.088109\n",
       "danceability        0.087186\n",
       "acousticness        0.085526\n",
       "speechiness         0.082589\n",
       "valence             0.081404\n",
       "liveness            0.079664\n",
       "tempo               0.077238\n",
       "instrumentalness    0.051899\n",
       "key                 0.046292\n",
       "mode                0.010886\n",
       "time_signature      0.005115\n",
       "dtype: float64"
      ]
     },
     "execution_count": 16,
     "metadata": {},
     "output_type": "execute_result"
    }
   ],
   "source": [
    "atributos_importancia = pd.Series(rfc.feature_importances_,index=atributos).sort_values(ascending=False)\n",
    "atributos_importancia"
   ]
  },
  {
   "cell_type": "code",
   "execution_count": 17,
   "id": "d9816a13",
   "metadata": {},
   "outputs": [
    {
     "data": {
      "text/plain": [
       "<AxesSubplot:>"
      ]
     },
     "execution_count": 17,
     "metadata": {},
     "output_type": "execute_result"
    },
    {
     "data": {
      "image/png": "[encoded data removed]",
      "text/plain": [
       "<Figure size 432x288 with 1 Axes>"
      ]
     },
     "metadata": {
      "needs_background": "light"
     },
     "output_type": "display_data"
    }
   ],
   "source": [
    "sns.barplot(x=atributos_importancia, y=atributos_importancia.index)"
   ]
  },
  {
   "cell_type": "code",
   "execution_count": 18,
   "id": "980cf462",
   "metadata": {},
   "outputs": [
    {
     "data": {
      "text/plain": [
       "[<matplotlib.lines.Line2D at 0x7f99b4237160>]"
      ]
     },
     "execution_count": 18,
     "metadata": {},
     "output_type": "execute_result"
    },
    {
     "data": {
      "image/png": "[encoded data removed]",
      "text/plain": [
       "<Figure size 432x288 with 1 Axes>"
      ]
     },
     "metadata": {
      "needs_background": "light"
     },
     "output_type": "display_data"
    }
   ],
   "source": [
    "loudness = df.groupby(by='Ano').mean()['loudness'].reset_index()\n",
    "\n",
    "plt.plot('Ano', 'loudness', data=loudness, marker='.', color='green', linewidth=2)"
   ]
  }
 ],
 "metadata": {
  "kernelspec": {
   "display_name": "Python 3 (ipykernel)",
   "language": "python",
   "name": "python3"
  },
  "language_info": {
   "codemirror_mode": {
    "name": "ipython",
    "version": 3
   },
   "file_extension": ".py",
   "mimetype": "text/x-python",
   "name": "python",
   "nbconvert_exporter": "python",
   "pygments_lexer": "ipython3",
   "version": "3.8.10"
  }
 },
 "nbformat": 4,
 "nbformat_minor": 5
}
